{
  "nbformat": 4,
  "nbformat_minor": 0,
  "metadata": {
    "colab": {
      "provenance": [],
      "toc_visible": true
    },
    "kernelspec": {
      "name": "python3",
      "display_name": "Python 3"
    },
    "accelerator": "GPU"
  },
  "cells": [
    {
      "cell_type": "markdown",
      "metadata": {
        "id": "view-in-github"
      },
      "source": [
        "<a href=\"https://colab.research.google.com/github/p-disha/COVID19-Chest-x-ray/blob/master/COVID19%20Chest%20X-Ray%20Analysis.ipynb\" target=\"_parent\"><img src=\"https://colab.research.google.com/assets/colab-badge.svg\" alt=\"Open In Colab\"/></a>"
      ]
    },
    {
      "cell_type": "markdown",
      "metadata": {
        "id": "NDDwEj93Q_MT"
      },
      "source": [
        "There are three main goals for this project\n",
        "(1) to explore development of a machine learning algorithm to distinguish chest X-rays of individuals with respiratory illness testing positive for COVID-19 from other X-rays,\n",
        "(2) to promote discovery of patterns in such X-rays via machine learning interpretability algorithms(LIME, SHAP), and\n",
        "(3) to build more robust and extensible machine learning infrastructure trained on a variety of data types, to aid in the global response to COVID-19."
      ]
    },
    {
      "cell_type": "markdown",
      "metadata": {
        "id": "W6vgUDlE-iSs"
      },
      "source": [
        "Installing required libraries"
      ]
    },
    {
      "cell_type": "code",
      "metadata": {
        "id": "OgjTaRpLft1h",
        "colab": {
          "base_uri": "https://localhost:8080/",
          "height": 350
        },
        "outputId": "c373a60f-7fa1-40f4-fd6f-23037d0c59e1"
      },
      "source": [
        "!pip install pydicom\n",
        "!pip install -U PyYAML"
      ],
      "execution_count": null,
      "outputs": [
        {
          "output_type": "stream",
          "text": [
            "Collecting pydicom\n",
            "\u001b[?25l  Downloading https://files.pythonhosted.org/packages/53/e6/4cae2b4b2fdbea5e2ddd188361139606d8f10f710ba1abecd6600da099c3/pydicom-1.4.2-py2.py3-none-any.whl (35.3MB)\n",
            "\u001b[K     |████████████████████████████████| 35.3MB 99kB/s \n",
            "\u001b[?25hInstalling collected packages: pydicom\n",
            "Successfully installed pydicom-1.4.2\n",
            "Collecting PyYAML\n",
            "\u001b[?25l  Downloading https://files.pythonhosted.org/packages/64/c2/b80047c7ac2478f9501676c988a5411ed5572f35d1beff9cae07d321512c/PyYAML-5.3.1.tar.gz (269kB)\n",
            "\u001b[K     |████████████████████████████████| 276kB 2.8MB/s \n",
            "\u001b[?25hBuilding wheels for collected packages: PyYAML\n",
            "  Building wheel for PyYAML (setup.py) ... \u001b[?25l\u001b[?25hdone\n",
            "  Created wheel for PyYAML: filename=PyYAML-5.3.1-cp36-cp36m-linux_x86_64.whl size=44621 sha256=a17315256b66012878491b0a5193120e6a3397d553458566cc2cf6776cc37656\n",
            "  Stored in directory: /root/.cache/pip/wheels/a7/c1/ea/cf5bd31012e735dc1dfea3131a2d5eae7978b251083d6247bd\n",
            "Successfully built PyYAML\n",
            "Installing collected packages: PyYAML\n",
            "  Found existing installation: PyYAML 3.13\n",
            "    Uninstalling PyYAML-3.13:\n",
            "      Successfully uninstalled PyYAML-3.13\n",
            "Successfully installed PyYAML-5.3.1\n"
          ],
          "name": "stdout"
        }
      ]
    },
    {
      "cell_type": "code",
      "metadata": {
        "id": "SOFLsGY7S0FV",
        "colab": {
          "base_uri": "https://localhost:8080/",
          "height": 34
        },
        "outputId": "8c7d6af8-6876-4c52-e36b-ef72d16c9737"
      },
      "source": [
        "import yaml\n",
        "yaml.__version__"
      ],
      "execution_count": null,
      "outputs": [
        {
          "output_type": "execute_result",
          "data": {
            "text/plain": [
              "'5.3.1'"
            ]
          },
          "metadata": {
            "tags": []
          },
          "execution_count": 2
        }
      ]
    },
    {
      "cell_type": "markdown",
      "metadata": {
        "id": "9QIpYJ94-nLZ"
      },
      "source": [
        "Checking the versions of the libraries to check for compatibility"
      ]
    },
    {
      "cell_type": "code",
      "metadata": {
        "id": "CcQ4oPLSjfzR",
        "colab": {
          "base_uri": "https://localhost:8080/",
          "height": 1000
        },
        "outputId": "f6c854de-7290-4347-97ad-5edf40fbb2fe"
      },
      "source": [
        "!pip install -U tensorflow-gpu==2.0.1\n",
        "%tensorflow_version 2.0.1\n",
        "#import PyYAML\n",
        "import matplotlib\n",
        "import tqdm\n",
        "#import opencv\n",
        "import tensorflow\n",
        "import dill\n",
        "import sklearn\n",
        "import numpy as np\n",
        "import pandas\n",
        "import pydicom\n",
        "import tensorboard\n",
        "#yaml.__version__\n",
        "print(matplotlib.__version__)\n",
        "print(tqdm.__version__)\n",
        "print(tensorflow.__version__)\n",
        "print(dill.__version__)\n",
        "print(sklearn.__version__)\n",
        "print(np.__version__)\n",
        "print(pandas.__version__)\n",
        "print(pydicom.__version__)\n",
        "print(tensorboard.__version__)\n"
      ],
      "execution_count": null,
      "outputs": [
        {
          "output_type": "stream",
          "text": [
            "Collecting tensorflow-gpu==2.0.1\n",
            "\u001b[?25l  Downloading https://files.pythonhosted.org/packages/9c/ce/701867b176b085574e63682a2774bf4851e2ce95343be7d8f1d8fbf0331b/tensorflow_gpu-2.0.1-cp36-cp36m-manylinux2010_x86_64.whl (380.8MB)\n",
            "\u001b[K     |████████████████████████████████| 380.8MB 45kB/s \n",
            "\u001b[?25hRequirement already satisfied, skipping upgrade: keras-preprocessing>=1.0.5 in /usr/local/lib/python3.6/dist-packages (from tensorflow-gpu==2.0.1) (1.1.0)\n",
            "Requirement already satisfied, skipping upgrade: six>=1.10.0 in /usr/local/lib/python3.6/dist-packages (from tensorflow-gpu==2.0.1) (1.12.0)\n",
            "Requirement already satisfied, skipping upgrade: absl-py>=0.7.0 in /usr/local/lib/python3.6/dist-packages (from tensorflow-gpu==2.0.1) (0.9.0)\n",
            "Requirement already satisfied, skipping upgrade: numpy<2.0,>=1.16.0 in /usr/local/lib/python3.6/dist-packages (from tensorflow-gpu==2.0.1) (1.18.3)\n",
            "Collecting gast==0.2.2\n",
            "  Downloading https://files.pythonhosted.org/packages/4e/35/11749bf99b2d4e3cceb4d55ca22590b0d7c2c62b9de38ac4a4a7f4687421/gast-0.2.2.tar.gz\n",
            "Requirement already satisfied, skipping upgrade: keras-applications>=1.0.8 in /usr/local/lib/python3.6/dist-packages (from tensorflow-gpu==2.0.1) (1.0.8)\n",
            "Requirement already satisfied, skipping upgrade: google-pasta>=0.1.6 in /usr/local/lib/python3.6/dist-packages (from tensorflow-gpu==2.0.1) (0.2.0)\n",
            "Requirement already satisfied, skipping upgrade: opt-einsum>=2.3.2 in /usr/local/lib/python3.6/dist-packages (from tensorflow-gpu==2.0.1) (3.2.1)\n",
            "Collecting tensorflow-estimator<2.1.0,>=2.0.0\n",
            "\u001b[?25l  Downloading https://files.pythonhosted.org/packages/fc/08/8b927337b7019c374719145d1dceba21a8bb909b93b1ad6f8fb7d22c1ca1/tensorflow_estimator-2.0.1-py2.py3-none-any.whl (449kB)\n",
            "\u001b[K     |████████████████████████████████| 450kB 29.4MB/s \n",
            "\u001b[?25hRequirement already satisfied, skipping upgrade: astor>=0.6.0 in /usr/local/lib/python3.6/dist-packages (from tensorflow-gpu==2.0.1) (0.8.1)\n",
            "Requirement already satisfied, skipping upgrade: wheel>=0.26; python_version >= \"3\" in /usr/local/lib/python3.6/dist-packages (from tensorflow-gpu==2.0.1) (0.34.2)\n",
            "Collecting tensorboard<2.1.0,>=2.0.0\n",
            "\u001b[?25l  Downloading https://files.pythonhosted.org/packages/76/54/99b9d5d52d5cb732f099baaaf7740403e83fe6b0cedde940fabd2b13d75a/tensorboard-2.0.2-py3-none-any.whl (3.8MB)\n",
            "\u001b[K     |████████████████████████████████| 3.8MB 10.0MB/s \n",
            "\u001b[?25hRequirement already satisfied, skipping upgrade: protobuf>=3.6.1 in /usr/local/lib/python3.6/dist-packages (from tensorflow-gpu==2.0.1) (3.10.0)\n",
            "Requirement already satisfied, skipping upgrade: termcolor>=1.1.0 in /usr/local/lib/python3.6/dist-packages (from tensorflow-gpu==2.0.1) (1.1.0)\n",
            "Requirement already satisfied, skipping upgrade: grpcio>=1.8.6 in /usr/local/lib/python3.6/dist-packages (from tensorflow-gpu==2.0.1) (1.28.1)\n",
            "Requirement already satisfied, skipping upgrade: wrapt>=1.11.1 in /usr/local/lib/python3.6/dist-packages (from tensorflow-gpu==2.0.1) (1.12.1)\n",
            "Requirement already satisfied, skipping upgrade: h5py in /usr/local/lib/python3.6/dist-packages (from keras-applications>=1.0.8->tensorflow-gpu==2.0.1) (2.10.0)\n",
            "Requirement already satisfied, skipping upgrade: setuptools>=41.0.0 in /usr/local/lib/python3.6/dist-packages (from tensorboard<2.1.0,>=2.0.0->tensorflow-gpu==2.0.1) (46.1.3)\n",
            "Requirement already satisfied, skipping upgrade: markdown>=2.6.8 in /usr/local/lib/python3.6/dist-packages (from tensorboard<2.1.0,>=2.0.0->tensorflow-gpu==2.0.1) (3.2.1)\n",
            "Requirement already satisfied, skipping upgrade: google-auth<2,>=1.6.3 in /usr/local/lib/python3.6/dist-packages (from tensorboard<2.1.0,>=2.0.0->tensorflow-gpu==2.0.1) (1.7.2)\n",
            "Requirement already satisfied, skipping upgrade: google-auth-oauthlib<0.5,>=0.4.1 in /usr/local/lib/python3.6/dist-packages (from tensorboard<2.1.0,>=2.0.0->tensorflow-gpu==2.0.1) (0.4.1)\n",
            "Requirement already satisfied, skipping upgrade: requests<3,>=2.21.0 in /usr/local/lib/python3.6/dist-packages (from tensorboard<2.1.0,>=2.0.0->tensorflow-gpu==2.0.1) (2.23.0)\n",
            "Requirement already satisfied, skipping upgrade: werkzeug>=0.11.15 in /usr/local/lib/python3.6/dist-packages (from tensorboard<2.1.0,>=2.0.0->tensorflow-gpu==2.0.1) (1.0.1)\n",
            "Requirement already satisfied, skipping upgrade: cachetools<3.2,>=2.0.0 in /usr/local/lib/python3.6/dist-packages (from google-auth<2,>=1.6.3->tensorboard<2.1.0,>=2.0.0->tensorflow-gpu==2.0.1) (3.1.1)\n",
            "Requirement already satisfied, skipping upgrade: rsa<4.1,>=3.1.4 in /usr/local/lib/python3.6/dist-packages (from google-auth<2,>=1.6.3->tensorboard<2.1.0,>=2.0.0->tensorflow-gpu==2.0.1) (4.0)\n",
            "Requirement already satisfied, skipping upgrade: pyasn1-modules>=0.2.1 in /usr/local/lib/python3.6/dist-packages (from google-auth<2,>=1.6.3->tensorboard<2.1.0,>=2.0.0->tensorflow-gpu==2.0.1) (0.2.8)\n",
            "Requirement already satisfied, skipping upgrade: requests-oauthlib>=0.7.0 in /usr/local/lib/python3.6/dist-packages (from google-auth-oauthlib<0.5,>=0.4.1->tensorboard<2.1.0,>=2.0.0->tensorflow-gpu==2.0.1) (1.3.0)\n",
            "Requirement already satisfied, skipping upgrade: certifi>=2017.4.17 in /usr/local/lib/python3.6/dist-packages (from requests<3,>=2.21.0->tensorboard<2.1.0,>=2.0.0->tensorflow-gpu==2.0.1) (2020.4.5.1)\n",
            "Requirement already satisfied, skipping upgrade: idna<3,>=2.5 in /usr/local/lib/python3.6/dist-packages (from requests<3,>=2.21.0->tensorboard<2.1.0,>=2.0.0->tensorflow-gpu==2.0.1) (2.9)\n",
            "Requirement already satisfied, skipping upgrade: chardet<4,>=3.0.2 in /usr/local/lib/python3.6/dist-packages (from requests<3,>=2.21.0->tensorboard<2.1.0,>=2.0.0->tensorflow-gpu==2.0.1) (3.0.4)\n",
            "Requirement already satisfied, skipping upgrade: urllib3!=1.25.0,!=1.25.1,<1.26,>=1.21.1 in /usr/local/lib/python3.6/dist-packages (from requests<3,>=2.21.0->tensorboard<2.1.0,>=2.0.0->tensorflow-gpu==2.0.1) (1.24.3)\n",
            "Requirement already satisfied, skipping upgrade: pyasn1>=0.1.3 in /usr/local/lib/python3.6/dist-packages (from rsa<4.1,>=3.1.4->google-auth<2,>=1.6.3->tensorboard<2.1.0,>=2.0.0->tensorflow-gpu==2.0.1) (0.4.8)\n",
            "Requirement already satisfied, skipping upgrade: oauthlib>=3.0.0 in /usr/local/lib/python3.6/dist-packages (from requests-oauthlib>=0.7.0->google-auth-oauthlib<0.5,>=0.4.1->tensorboard<2.1.0,>=2.0.0->tensorflow-gpu==2.0.1) (3.1.0)\n",
            "Building wheels for collected packages: gast\n",
            "  Building wheel for gast (setup.py) ... \u001b[?25l\u001b[?25hdone\n",
            "  Created wheel for gast: filename=gast-0.2.2-cp36-none-any.whl size=7540 sha256=6de00fde70cce0a7d2ee8f087a6a916bbd7a142b4d974223b39a938a31f03131\n",
            "  Stored in directory: /root/.cache/pip/wheels/5c/2e/7e/a1d4d4fcebe6c381f378ce7743a3ced3699feb89bcfbdadadd\n",
            "Successfully built gast\n",
            "\u001b[31mERROR: tensorflow 2.2.0rc3 has requirement gast==0.3.3, but you'll have gast 0.2.2 which is incompatible.\u001b[0m\n",
            "\u001b[31mERROR: tensorflow 2.2.0rc3 has requirement tensorboard<2.3.0,>=2.2.0, but you'll have tensorboard 2.0.2 which is incompatible.\u001b[0m\n",
            "\u001b[31mERROR: tensorflow 2.2.0rc3 has requirement tensorflow-estimator<2.3.0,>=2.2.0rc0, but you'll have tensorflow-estimator 2.0.1 which is incompatible.\u001b[0m\n",
            "\u001b[31mERROR: tensorflow-probability 0.10.0rc0 has requirement gast>=0.3.2, but you'll have gast 0.2.2 which is incompatible.\u001b[0m\n",
            "Installing collected packages: gast, tensorflow-estimator, tensorboard, tensorflow-gpu\n",
            "  Found existing installation: gast 0.3.3\n",
            "    Uninstalling gast-0.3.3:\n",
            "      Successfully uninstalled gast-0.3.3\n",
            "  Found existing installation: tensorflow-estimator 2.2.0\n",
            "    Uninstalling tensorflow-estimator-2.2.0:\n",
            "      Successfully uninstalled tensorflow-estimator-2.2.0\n",
            "  Found existing installation: tensorboard 2.2.1\n",
            "    Uninstalling tensorboard-2.2.1:\n",
            "      Successfully uninstalled tensorboard-2.2.1\n",
            "Successfully installed gast-0.2.2 tensorboard-2.0.2 tensorflow-estimator-2.0.1 tensorflow-gpu-2.0.1\n",
            "`%tensorflow_version` only switches the major version: 1.x or 2.x.\n",
            "You set: `2.0.1`. This will be interpreted as: `2.x`.\n",
            "\n",
            "\n",
            "TensorFlow 2.x selected.\n",
            "3.2.1\n",
            "4.38.0\n",
            "2.0.1\n",
            "0.3.1.1\n",
            "0.22.2.post1\n",
            "1.18.3\n",
            "1.0.3\n",
            "1.4.2\n",
            "2.0.2\n"
          ],
          "name": "stdout"
        }
      ]
    },
    {
      "cell_type": "code",
      "metadata": {
        "id": "hTU9eu92hmQf"
      },
      "source": [
        "'''\n",
        "!pip install -U -q PyDrive\n",
        "from pydrive.auth import GoogleAuth\n",
        "from pydrive.drive import GoogleDrive\n",
        "from google.colab import auth\n",
        "from oauth2client.client import GoogleCredentials# Authenticate and create the PyDrive client.\n",
        "auth.authenticate_user()\n",
        "gauth = GoogleAuth()\n",
        "gauth.credentials = GoogleCredentials.get_application_default()\n",
        "drive = GoogleDrive(gauth)\n",
        "'''"
      ],
      "execution_count": null,
      "outputs": []
    },
    {
      "cell_type": "code",
      "metadata": {
        "id": "e-bxFDlniKe8"
      },
      "source": [
        "'''\n",
        "link = 'https://drive.google.com/open?id=1AGpUZTsW4_XkXfaG9wlYU8_Sz2eEyF7N'\n",
        "fluff, id = link.split('=')\n",
        "downloaded = drive.CreateFile({'id':id})\n",
        "downloaded.GetContentFile('Filename.csv')\n",
        "df3 = pd.read_csv('Filename.csv')\n",
        "'''"
      ],
      "execution_count": null,
      "outputs": []
    },
    {
      "cell_type": "markdown",
      "metadata": {
        "id": "WQCjktXa-xCO"
      },
      "source": [
        "Mounting Google drive to read the dataset to train the model"
      ]
    },
    {
      "cell_type": "code",
      "metadata": {
        "id": "S2HksHb2jbM6",
        "colab": {
          "base_uri": "https://localhost:8080/",
          "height": 124
        },
        "outputId": "ae649fd9-d3b6-4acb-f40b-3c7798dd4446"
      },
      "source": [
        "from google.colab import drive\n",
        "drive.mount('/content/gdrive')"
      ],
      "execution_count": null,
      "outputs": [
        {
          "output_type": "stream",
          "text": [
            "Go to this URL in a browser: https://accounts.google.com/o/oauth2/auth?client_id=947318989803-6bn6qk8qdgf4n4g3pfee6491hc0brc4i.apps.googleusercontent.com&redirect_uri=urn%3aietf%3awg%3aoauth%3a2.0%3aoob&response_type=code&scope=email%20https%3a%2f%2fwww.googleapis.com%2fauth%2fdocs.test%20https%3a%2f%2fwww.googleapis.com%2fauth%2fdrive%20https%3a%2f%2fwww.googleapis.com%2fauth%2fdrive.photos.readonly%20https%3a%2f%2fwww.googleapis.com%2fauth%2fpeopleapi.readonly\n",
            "\n",
            "Enter your authorization code:\n",
            "··········\n",
            "Mounted at /content/gdrive\n"
          ],
          "name": "stdout"
        }
      ]
    },
    {
      "cell_type": "markdown",
      "metadata": {
        "id": "2XLD3YwU_RqJ"
      },
      "source": [
        "DATA PREPROCESSING\n",
        "\n",
        "The dataset is already preprocessed locally so we just load the dataset from local"
      ]
    },
    {
      "cell_type": "code",
      "metadata": {
        "id": "0us-lzh056EB"
      },
      "source": [
        "#!pip install pydicom\n",
        "import numpy as np\n",
        "import pandas as pd\n",
        "import pydicom as dicom\n",
        "import yaml\n",
        "import os\n",
        "import pathlib\n",
        "import shutil\n",
        "import cv2\n",
        "from tqdm import tqdm\n",
        "from sklearn.model_selection import train_test_split\n"
      ],
      "execution_count": null,
      "outputs": []
    },
    {
      "cell_type": "markdown",
      "metadata": {
        "id": "KtdfU4_Z_kUF"
      },
      "source": [
        "Here we combine datasets from three differenrt sources two github repositories and one from kaggle and pre process them to store the images names in a csv file which will help us to load the images in th eupcoming steps"
      ]
    },
    {
      "cell_type": "markdown",
      "metadata": {
        "id": "lqJgqvYL_84W"
      },
      "source": [
        "Most of the path's, folder name's and parameters are stored in the config.yml file which we load from local computer. In this experiment we are performing binary classification where the two classes to be classified are COVID and NON-COVID."
      ]
    },
    {
      "cell_type": "code",
      "metadata": {
        "id": "odmGO7286GA5"
      },
      "source": [
        "def build_dataset(cfg):\n",
        "    '''\n",
        "    Build a dataset of filenames and labels according to the type of classification\n",
        "    :param cfg: Project config dictionary\n",
        "    :return: DataFrame of file names of examples and corresponding class labels\n",
        "    '''\n",
        "\n",
        "    # Get paths of raw datasets to be included\n",
        "    mila_data_path = cfg['PATHS']['MILA_DATA']\n",
        "    fig1_data_path = cfg['PATHS']['FIGURE1_DATA']\n",
        "    rsna_data_path = cfg['PATHS']['RSNA_DATA']\n",
        "\n",
        "    # Assemble filenames comprising Mila dataset\n",
        "    mila_df = pd.read_csv(mila_data_path + 'metadata.csv')\n",
        "    mila_df['filename'] = mila_data_path + 'images/' + mila_df['filename'].astype(str)\n",
        "    mila_views_cxrs_df = (mila_df['view'].str.contains('|'.join(cfg['DATA']['VIEWS'])))    # Select desired X-ray views\n",
        "    mila_covid_pts_df = (mila_df['finding'] == 'COVID-19')\n",
        "    mila_covid_views_df = mila_df[mila_covid_pts_df & mila_views_cxrs_df]  # Images for patients diagnosed with COVID-19\n",
        "\n",
        "    # Assemble filenames comprising Figure 1 dataset\n",
        "    fig1_df = pd.read_csv(fig1_data_path + 'metadata.csv', encoding='ISO-8859-1')\n",
        "    fig1_df['filename'] = ''\n",
        "    for i, row in fig1_df.iterrows():\n",
        "        if os.path.exists(fig1_data_path + 'images/' + fig1_df.loc[i, 'patientid'] + '.jpg'):\n",
        "            fig1_df.loc[i, 'filename'] = fig1_data_path + 'images/' + fig1_df.loc[i, 'patientid'] + '.jpg'\n",
        "        else:\n",
        "            fig1_df.loc[i, 'filename'] = fig1_data_path + 'images/' + fig1_df.loc[i, 'patientid'] + '.png'\n",
        "    fig1_df['view'].fillna('PA or AP', inplace=True)    # All images in this dataset are either AP or PA\n",
        "    fig1_views_cxrs_df = (fig1_df['view'].str.contains('|'.join(cfg['DATA']['VIEWS'])))    # Select desired X-ray views\n",
        "    fig1_covid_pts_df = (fig1_df['finding'] == 'COVID-19')\n",
        "    fig1_covid_views_df = fig1_df[fig1_covid_pts_df & fig1_views_cxrs_df]  # Images for patients diagnosed COVID-19\n",
        "\n",
        "    # Assemble filenames comprising RSNA dataset\n",
        "    rsna_metadata_path = rsna_data_path + 'stage_2_train_labels.csv'\n",
        "    rsna_df = pd.read_csv(rsna_metadata_path)\n",
        "    num_rsna_imgs = cfg['DATA']['NUM_RSNA_IMGS']\n",
        "    rsna_normal_df = rsna_df[rsna_df['Target'] == 0]\n",
        "    rsna_pneum_df = rsna_df[rsna_df['Target'] == 1]\n",
        "\n",
        "    # Convert dicom files of CXRs with no findings to jpg if not done already in a previous run. Select desired views.\n",
        "    file_counter = 0\n",
        "    normal_idxs = []\n",
        "    for df_idx in rsna_normal_df.index.values.tolist():\n",
        "        filename = rsna_normal_df.loc[df_idx]['patientId']\n",
        "        ds = dicom.dcmread(os.path.join(rsna_data_path + 'stage_2_train_images/' + filename + '.dcm'))\n",
        "        if any(view in ds.SeriesDescription.split(' ')[1] for view in cfg['DATA']['VIEWS']):  # Select desired X-ray views\n",
        "            if not os.path.exists(rsna_data_path + filename + '.jpg'):\n",
        "                cv2.imwrite(os.path.join(rsna_data_path + filename + '.jpg'), ds.pixel_array)   # Save as .jpg\n",
        "            normal_idxs.append(df_idx)\n",
        "            file_counter += 1\n",
        "        if file_counter >= num_rsna_imgs // 2:\n",
        "            break\n",
        "    rsna_normal_df = rsna_normal_df.loc[normal_idxs]\n",
        "\n",
        "    # Convert dicom files of CXRs with pneumonia to jpg if not done already in a previous run. Select desired views.\n",
        "    file_counter = 0\n",
        "    pneum_idxs = []\n",
        "    num_remaining = num_rsna_imgs - num_rsna_imgs // 2\n",
        "    for df_idx in rsna_pneum_df.index.values.tolist():\n",
        "        filename = rsna_pneum_df.loc[df_idx]['patientId']\n",
        "        ds = dicom.dcmread(os.path.join(rsna_data_path + 'stage_2_train_images/' + filename + '.dcm'))\n",
        "        if any(view in ds.SeriesDescription.split(' ')[1] for view in cfg['DATA']['VIEWS']):  # Select desired X-ray views\n",
        "            if not os.path.exists(rsna_data_path + filename + '.jpg'):\n",
        "                cv2.imwrite(os.path.join(rsna_data_path + filename + '.jpg'), ds.pixel_array)  # Save as .jpg\n",
        "            pneum_idxs.append(df_idx)\n",
        "            file_counter += 1\n",
        "        if file_counter >= num_remaining:\n",
        "            break\n",
        "    rsna_pneum_df = rsna_pneum_df.loc[pneum_idxs]\n",
        "\n",
        "    mode = cfg['TRAIN']['CLASS_MODE']\n",
        "    n_classes = len(cfg['DATA']['CLASSES'])\n",
        "    class_dict = {cfg['DATA']['CLASSES'][i]: i for i in range(n_classes)}  # Map class name to number\n",
        "    label_dict = {i: cfg['DATA']['CLASSES'][i] for i in range(n_classes)}  # Map class name to number\n",
        "\n",
        "    if mode == 'binary':\n",
        "        mila_covid_views_df['label'] = 1                                       # Mila images with COVID-19 diagnosis\n",
        "        mila_other_views_df = mila_df[~mila_covid_pts_df & mila_views_cxrs_df]\n",
        "        mila_other_views_df['label'] = 0                                       # Mila images with alternative diagnoses\n",
        "        fig1_covid_views_df['label'] = 1                                       # Figure 1 images with COVID-19 diagnosis\n",
        "        file_df = pd.concat([mila_covid_views_df[['filename', 'label']], mila_other_views_df[['filename', 'label']],\n",
        "                             fig1_covid_views_df[['filename', 'label']]], axis=0)\n",
        "\n",
        "        rsna_df = pd.concat([rsna_normal_df, rsna_pneum_df], axis=0)\n",
        "        rsna_filenames = rsna_data_path + rsna_df['patientId'].astype(str) + '.jpg'\n",
        "        rsna_file_df = pd.DataFrame({'filename': rsna_filenames, 'label': 0})\n",
        "\n",
        "        file_df = pd.concat([file_df, rsna_file_df], axis=0)         # Combine both datasets\n",
        "    else:\n",
        "        mila_covid_views_df['label'] = class_dict['COVID-19']\n",
        "        mila_views_pneum_df = mila_df[mila_df['finding'].isin(['SARS', 'Steptococcus', 'MERS', 'Legionella', 'Klebsiella',\n",
        "                                                            'Chlamydophila', 'Pneumocystis']) & mila_views_cxrs_df]\n",
        "        mila_views_pneum_df['label'] = class_dict['other_pneumonia']                 # Mila CXRs with other peumonias\n",
        "        mila_views_normal_df = mila_df[mila_df['finding'].isin(['No finding']) & mila_views_cxrs_df]\n",
        "        mila_views_normal_df['label'] = class_dict['normal']                         # Mila CXRs with no finding\n",
        "        fig1_covid_views_df['label'] = class_dict['COVID-19']                        # Figure 1 CXRs with COVID-19 finding\n",
        "        file_df = pd.concat([mila_covid_views_df[['filename', 'label']], mila_views_pneum_df[['filename', 'label']],\n",
        "                             mila_views_normal_df[['filename', 'label']], fig1_covid_views_df[['filename', 'label']]], axis=0)\n",
        "\n",
        "        # Organize some files from RSNA dataset into \"normal\", and \"pneumonia\" XRs\n",
        "        rsna_normal_filenames = rsna_data_path + rsna_normal_df['patientId'].astype(str) + '.jpg'\n",
        "        rsna_pneum_filenames = rsna_data_path + rsna_pneum_df['patientId'].astype(str) + '.jpg'\n",
        "        rsna_normal_file_df = pd.DataFrame({'filename': rsna_normal_filenames, 'label': class_dict['normal']})\n",
        "        rsna_pneum_file_df = pd.DataFrame({'filename': rsna_pneum_filenames, 'label': class_dict['other_pneumonia']})\n",
        "        rsna_file_df = pd.concat([rsna_normal_file_df, rsna_pneum_file_df], axis=0)\n",
        "\n",
        "        file_df = pd.concat([file_df, rsna_file_df], axis=0)  # Combine both datasets\n",
        "\n",
        "    file_df['label_str'] = file_df['label'].map(label_dict) # Add column for string representation of label\n",
        "    return file_df"
      ],
      "execution_count": null,
      "outputs": []
    },
    {
      "cell_type": "markdown",
      "metadata": {
        "id": "7oWzd3D-AlpS"
      },
      "source": [
        "We observed from the lime explanation that most of the images have characters printed on them and the training algorithm was using that feature also for the purpose of prediction which is wrong. So in the remove_text method we try tp remove all the text's present on the image. This leads the models to not use these text encoding on the images as a feature for prediction."
      ]
    },
    {
      "cell_type": "code",
      "metadata": {
        "id": "K8_RPhdb6N1Y"
      },
      "source": [
        "def remove_text(img):\n",
        "    '''\n",
        "    Attempts to remove bright textual artifacts from X-ray images. For example, many images indicate the right side of\n",
        "    the body with a white 'R'. Works only for very bright text.\n",
        "    :param img: Numpy array of image\n",
        "    :return: Array of image with (ideally) any characters removed and inpainted\n",
        "    '''\n",
        "    #print(\"inside remove_text\")\n",
        "    mask = cv2.threshold(img, 230, 255, cv2.THRESH_BINARY)[1][:, :, 0].astype(np.uint8)\n",
        "    img = img.astype(np.uint8)\n",
        "    result = cv2.inpaint(img, mask, 10, cv2.INPAINT_NS).astype(np.float32)\n",
        "    return result\n"
      ],
      "execution_count": null,
      "outputs": []
    },
    {
      "cell_type": "markdown",
      "metadata": {
        "id": "gJs1n6gqBJoL"
      },
      "source": [
        "We split the dataset into three parts for Train, Validation and Test."
      ]
    },
    {
      "cell_type": "code",
      "metadata": {
        "id": "_EATFDyD6UVf"
      },
      "source": [
        "def preprocess(cfg=None):\n",
        "    '''\n",
        "    Preprocess and partition image data. Assemble all image file paths and partition into training, validation and\n",
        "    test sets. Copy raw images to folders for training, validation and test sets.\n",
        "    :param mode: Type of classification. Set to either 'binary' or 'multiclass'\n",
        "    '''\n",
        "\n",
        "    if cfg is None:\n",
        "        cfg = yaml.full_load(open(os.getcwd() + \"/config.yml\", 'r'))  # Load config data\n",
        "\n",
        "    # Build dataset based on type of classification\n",
        "    file_df = build_dataset(cfg)\n",
        "\n",
        "    # Split dataset into train, val and test sets\n",
        "    val_split = cfg['DATA']['VAL_SPLIT']\n",
        "    test_split = cfg['DATA']['TEST_SPLIT']\n",
        "    file_df_train, file_df_test = train_test_split(file_df, test_size=test_split, stratify=file_df['label'])\n",
        "    relative_val_split = val_split / (1 - test_split)  # Calculate fraction of train_df to be used for validation\n",
        "    file_df_train, file_df_val = train_test_split(file_df_train, test_size=relative_val_split,\n",
        "                                                      stratify=file_df_train['label'])\n",
        "\n",
        "    # Save training, validation and test sets\n",
        "    file_df_train.to_csv(cfg['PATHS']['TRAIN_SET'])\n",
        "    file_df_val.to_csv(cfg['PATHS']['VAL_SET'])\n",
        "    file_df_test.to_csv(cfg['PATHS']['TEST_SET'])\n",
        "    return"
      ],
      "execution_count": null,
      "outputs": []
    },
    {
      "cell_type": "code",
      "metadata": {
        "id": "mMaLtFoB6Vtr"
      },
      "source": [
        "#if __name__ == '__main__':\n",
        "#    preprocess()"
      ],
      "execution_count": null,
      "outputs": []
    },
    {
      "cell_type": "markdown",
      "metadata": {
        "id": "Kf1M2X2wQ9Ez"
      },
      "source": [
        "MODEL"
      ]
    },
    {
      "cell_type": "code",
      "metadata": {
        "id": "agqsbSCLMC2M"
      },
      "source": [
        "from tensorflow.keras import Sequential, Model\n",
        "from tensorflow.keras.layers import Dense, Dropout, Input, MaxPool2D, Conv2D, Flatten, LeakyReLU, BatchNormalization, \\\n",
        "    Activation, concatenate, GlobalAveragePooling2D\n",
        "from tensorflow.keras.regularizers import l2\n",
        "from tensorflow.keras.optimizers import Adam, SGD\n",
        "from tensorflow.keras.initializers import Constant\n",
        "from tensorflow.keras.applications.resnet_v2 import ResNet50V2, ResNet101V2\n",
        "from tensorflow.keras.utils import multi_gpu_model"
      ],
      "execution_count": null,
      "outputs": []
    },
    {
      "cell_type": "code",
      "metadata": {
        "id": "WatfsetUMPKx"
      },
      "source": [],
      "execution_count": null,
      "outputs": []
    },
    {
      "cell_type": "markdown",
      "metadata": {
        "id": "s5XBy0DnOIZe"
      },
      "source": [
        "Visualization\n",
        "\n",
        "The methods defined below are responsible visualizing the model\n"
      ]
    },
    {
      "cell_type": "code",
      "metadata": {
        "id": "EpGDyXjnOHLJ"
      },
      "source": [
        "import tensorflow as tf\n",
        "import matplotlib.pyplot as plt\n",
        "import matplotlib as mpl\n",
        "import datetime\n",
        "import io\n",
        "import os\n",
        "import numpy as np\n",
        "from sklearn.metrics import confusion_matrix, roc_curve\n",
        "from skimage.segmentation import mark_boundaries"
      ],
      "execution_count": null,
      "outputs": []
    },
    {
      "cell_type": "code",
      "metadata": {
        "id": "aC7xiHgRTmtR",
        "colab": {
          "base_uri": "https://localhost:8080/",
          "height": 34
        },
        "outputId": "72d9e570-1a39-47d9-89c7-e6fd68a17a0e"
      },
      "source": [
        "tf.__version__"
      ],
      "execution_count": null,
      "outputs": [
        {
          "output_type": "execute_result",
          "data": {
            "text/plain": [
              "'2.0.1'"
            ]
          },
          "metadata": {
            "tags": []
          },
          "execution_count": 12
        }
      ]
    },
    {
      "cell_type": "code",
      "metadata": {
        "id": "YNj9ioBNOPDi"
      },
      "source": [
        "# Set some matplotlib parameters\n",
        "mpl.rcParams['figure.figsize'] = (12, 10)"
      ],
      "execution_count": null,
      "outputs": []
    },
    {
      "cell_type": "markdown",
      "metadata": {
        "id": "3BcuWX8IDspT"
      },
      "source": [
        "It is extremely important to understand the Receiver Operating Curve that gives raise to many classification quality metrics"
      ]
    },
    {
      "cell_type": "code",
      "metadata": {
        "id": "nILRRKLLOULd"
      },
      "source": [
        "def plot_to_tensor():\n",
        "    '''\n",
        "    Converts a matplotlib figure to an image tensor\n",
        "    :param figure: A matplotlib figure\n",
        "    :return: Tensorflow tensor representing the matplotlib image\n",
        "    '''\n",
        "    # Save the plot to a PNG in memory.\n",
        "    buf = io.BytesIO()\n",
        "    plt.savefig(buf, format='png')\n",
        "    buf.seek(0)\n",
        "\n",
        "    image_tensor = tf.image.decode_png(buf.getvalue(), channels=4)     # Convert .png buffer to tensorflow image\n",
        "    image_tensor = tf.expand_dims(image_tensor, 0)     # Add the batch dimension\n",
        "    return image_tensor\n",
        "\n",
        "def plot_metrics(history, metrics, dir_path=None):\n",
        "    '''\n",
        "    Plot metrics for the training and validation sets over the training history.\n",
        "    :param history: Model history; returned from model.fit()\n",
        "    :param metrics: List of metrics to plot\n",
        "    :param dir_path: Directory in which to save image\n",
        "    '''\n",
        "    plt.clf()\n",
        "    for n, metric in enumerate(metrics):\n",
        "        name = metric.replace(\"_\",\" \").capitalize()\n",
        "        plt.subplot(2,3,n+1)\n",
        "        plt.plot(history.epoch,  history.history[metric], label='Train')    # Plot metric on training data\n",
        "        plt.plot(history.epoch, history.history['val_'+metric], linestyle=\"--\", label='Val')    # Plot metric on validation data\n",
        "        plt.xlabel('Epoch')\n",
        "        plt.ylabel(name)\n",
        "\n",
        "        # Set plot limits depending on the metric\n",
        "        if metric == 'loss':\n",
        "          plt.ylim([0, plt.ylim()[1]])\n",
        "        elif metric == 'auc':\n",
        "          plt.ylim([0.8,1])\n",
        "        else:\n",
        "          plt.ylim([0,1])\n",
        "        plt.legend()\n",
        "    if dir_path is not None:\n",
        "        if not os.path.exists(dir_path):\n",
        "            os.makedirs(dir_path)\n",
        "        plt.savefig(dir_path + 'metrics_' + datetime.datetime.now().strftime(\"%Y%m%d-%H%M%S\") + '.png')\n",
        "    return\n",
        "\n",
        "def plot_roc(name, labels, predictions, class_id=1, dir_path=None):\n",
        "    '''\n",
        "    Plots the ROC curve for predictions on a dataset\n",
        "    :param name: Name of dataset on the plot\n",
        "    :param labels: Ground truth labels\n",
        "    :param predictions: Model predictions corresponding to the labels\n",
        "    :param class_id: Index of class to consider\n",
        "    :param dir_path: Directory in which to save image\n",
        "    '''\n",
        "    print(\"indside plot _roc\")\n",
        "    plt.clf()\n",
        "    single_class_preds = predictions[:, class_id]    # Only care about one class\n",
        "    single_class_labels = (np.array(labels) == class_id) * 1.0\n",
        "    predictions = single_class_preds\n",
        "    labels = single_class_labels\n",
        "    fp, tp, _ = roc_curve(labels, predictions)  # Get values for true positive and true negative\n",
        "    plt.plot(100*fp, 100*tp, label=name, linewidth=2)   # Plot the ROC curve\n",
        "    plt.xlabel('False positives [%]')\n",
        "    plt.ylabel('True positives [%]')\n",
        "    plt.xlim([-5,105])\n",
        "    plt.ylim([-5,105])\n",
        "    plt.grid(True)\n",
        "    ax = plt.gca()\n",
        "    ax.set_aspect('equal')\n",
        "    if dir_path is not None:\n",
        "        if not os.path.exists(dir_path):\n",
        "            os.makedirs(dir_path)\n",
        "        plt.savefig(dir_path + 'ROC_' + datetime.datetime.now().strftime(\"%Y%m%d-%H%M%S\") + '.png')\n",
        "    print(\"after plotting roc\")\n",
        "    return plt\n",
        "\n",
        "def plot_confusion_matrix(labels, predictions, class_id=1, dir_path=None):\n",
        "    '''\n",
        "    Plot a confusion matrix for the ground truth labels and corresponding model predictions for a particular class.\n",
        "    :param labels: Ground truth labels\n",
        "    :param predictions: Model predictions\n",
        "    :param class_id: Index of class to consider\n",
        "    :param dir_path: Directory in which to save image\n",
        "    '''\n",
        "    plt.clf()\n",
        "    p = 1.0 / np.unique(labels).shape[0]\n",
        "    single_class_preds = predictions[:, class_id]    # Only care about one class\n",
        "    single_class_labels = (np.array(labels) == class_id) * 1.0\n",
        "    predictions = single_class_preds\n",
        "    labels = single_class_labels\n",
        "    ax = plt.subplot()\n",
        "    cm = confusion_matrix(labels, predictions > p)  # Calculate confusion matrix\n",
        "    im = ax.imshow(cm, interpolation='nearest', cmap=plt.cm.Blues)  # Plot confusion matrix\n",
        "    ax.figure.colorbar(im, ax=ax)\n",
        "    ax.set(yticks=[-0.5, 1.5], xticks=[0, 1], yticklabels=['0', '1'], xticklabels=['0', '1'])\n",
        "    ax.yaxis.set_major_locator(mpl.ticker.IndexLocator(base=1, offset=0.5))\n",
        "\n",
        "    # Print number of TPs, FPs, TNs, FNs on each quadrant in the plot\n",
        "    thresh = cm.max() / 2\n",
        "    for i in range(cm.shape[0]):\n",
        "        for j in range(cm.shape[1]):\n",
        "            plt.text(j, i, cm[i, j], horizontalalignment=\"center\", color=\"white\" if cm[i, j] > thresh else \"black\")\n",
        "\n",
        "    # Set plot's title and axis names\n",
        "    plt.title('Confusion matrix p={:.2f}'.format(p))\n",
        "    plt.ylabel('Actual label')\n",
        "    plt.xlabel('Predicted label')\n",
        "\n",
        "    # Save the image\n",
        "    if dir_path is not None:\n",
        "        plt.savefig(dir_path + 'CM_' + datetime.datetime.now().strftime(\"%Y%m%d-%H%M%S\") + '.png')\n",
        "\n",
        "    # Print these statistics\n",
        "    print('True (-)ves: ', cm[0][0], '\\nFalse (+)ves: ', cm[0][1], '\\nFalse (-)ves: ', cm[1][0], '\\nTrue (+)ves: ',\n",
        "          cm[1][1])\n",
        "    return plt\n",
        "\n",
        "\n",
        "def visualize_explanation(orig_img, explanation, img_filename, label, probs, class_names, label_to_see='top', dir_path=None):\n",
        "    '''\n",
        "    Visualize an explanation for the prediction of a single X-ray image.\n",
        "    :param orig_img: Original X-Ray image\n",
        "    :param explanation: ImageExplanation object\n",
        "    :param img_filename: Filename of the image explained\n",
        "    :param label: Ground truth class of the example\n",
        "    :param probs: Prediction probabilities\n",
        "    :param class_names: Ordered list of class names\n",
        "    :param label_to_see: Label to visualize in explanation\n",
        "    :param dir_path: Path to directory where to save the generated image\n",
        "    :return: Path to saved image\n",
        "    '''\n",
        "\n",
        "    # Plot original image on the left\n",
        "    fig, ax = plt.subplots(1, 2)\n",
        "    ax[0].imshow(orig_img)\n",
        "\n",
        "    # Plot the image and its explanation on the right\n",
        "    if label_to_see == 'top':\n",
        "        label_to_see = explanation.top_labels[0]\n",
        "    explanation.image = orig_img\n",
        "    temp, mask = explanation.get_image_and_mask(label_to_see, positive_only=False, num_features=10,\n",
        "                                                hide_rest=False)\n",
        "    ax[1].imshow(mark_boundaries(temp, mask))\n",
        "\n",
        "    # Display some information about the example\n",
        "    pred_class = np.argmax(probs)\n",
        "    fig.text(0.02, 0.8, \"Prediction probabilities: \" + str(['{:.2f}'.format(probs[i]) for i in range(len(probs))]),\n",
        "             fontsize=10)\n",
        "    fig.text(0.02, 0.82, \"Predicted Class: \" + str(pred_class) + ' (' + class_names[pred_class] + ')', fontsize=10)\n",
        "    if label is not None:\n",
        "        fig.text(0.02, 0.84, \"Ground Truth Class: \" + str(label) + ' (' + class_names[label] + ')', fontsize=10)\n",
        "    fig.suptitle(\"LIME Explanation for image \" + img_filename, fontsize=15)\n",
        "    fig.tight_layout()\n",
        "\n",
        "    # Save the image\n",
        "    filename = None\n",
        "    if dir_path is not None:\n",
        "        if not os.path.exists(dir_path):\n",
        "            os.makedirs(dir_path)\n",
        "        filename = dir_path + img_filename + '_exp_' + datetime.datetime.now().strftime(\"%Y%m%d-%H%M%S\") + '.png'\n",
        "        plt.savefig(filename)\n",
        "    return filename\n",
        "\n",
        "def visualize_heatmap(orig_img, heatmap, img_filename, label, probs, class_names, file_path=None):\n",
        "    '''\n",
        "    Obtain a comparison of an original image and heatmap produced by Grad-CAM.\n",
        "    :param orig_img: Original X-Ray image\n",
        "    :param heatmap: Heatmap generated by Grad-CAM.\n",
        "    :param img_filename: Filename of the image explained\n",
        "    :param label: Ground truth class of the example\n",
        "    :param probs: Prediction probabilities\n",
        "    :param class_names: Ordered list of class names\n",
        "    :param file_path: Path to save the generated image\n",
        "    :return: Path to saved image\n",
        "    '''\n",
        "\n",
        "    fig, ax = plt.subplots(1, 2)\n",
        "    ax[0].imshow(orig_img)\n",
        "    ax[1].imshow(heatmap)\n",
        "\n",
        "    # Display some information about the example\n",
        "    pred_class = np.argmax(probs)\n",
        "    fig.text(0.02, 0.8, \"Prediction probabilities: \" + str(['{:.2f}'.format(probs[i]) for i in range(len(probs))]),\n",
        "             fontsize=10)\n",
        "    fig.text(0.02, 0.82, \"Predicted Class: \" + str(pred_class) + ' (' + class_names[pred_class] + ')', fontsize=10)\n",
        "    if label is not None:\n",
        "        fig.text(0.02, 0.84, \"Ground Truth Class: \" + str(label) + ' (' + class_names[label] + ')', fontsize=10)\n",
        "    fig.suptitle(\"Grad-CAM heatmap for image \" + img_filename, fontsize=15)\n",
        "    fig.tight_layout()\n",
        "\n",
        "    # Save the image\n",
        "    filename = None\n",
        "    if file_path is not None:\n",
        "        filename = file_path + img_filename + '_gradcam_' + datetime.datetime.now().strftime(\"%Y%m%d-%H%M%S\") + '.png'\n",
        "        plt.savefig(filename)\n",
        "    return filename"
      ],
      "execution_count": null,
      "outputs": []
    },
    {
      "cell_type": "markdown",
      "metadata": {
        "id": "8AIJUBgWg92g"
      },
      "source": [
        "METRICS.PY"
      ]
    },
    {
      "cell_type": "markdown",
      "metadata": {
        "id": "zJn8QyG8CTFN"
      },
      "source": [
        "Below methods are responsible for calculating the F-1 score for the trained model. If the outcome from a prediction is p and the actual value is also p, then it is called a true positive (TP); however if the actual value is n then it is said to be a false positive (FP). Conversely, a true negative (TN) has occurred when both the prediction outcome and the actual value are n, and false negative (FN) is when the prediction outcome is n while the actual value is p."
      ]
    },
    {
      "cell_type": "markdown",
      "metadata": {
        "id": "0nyIpP13EU16"
      },
      "source": [
        "In the case of this problem. When a person tests positive for COVID-19 but actually doesn't have the disease it is know as False Positive. When the person is tested positive and if they also have the disease the it is True Positive. If the person doesn't is not tested positive but actually has the disease then is is know as False Negative. If a person is tested negative and also doesn't have the disease then it is know as True Negative. The count for each of the four classes according to our models prediction is drawn below."
      ]
    },
    {
      "cell_type": "code",
      "metadata": {
        "id": "TYKZVs9Ag8uO"
      },
      "source": [
        "import numpy as np\n",
        "from tensorflow.keras.metrics import Metric, Precision, Recall\n",
        "from tensorflow.python.keras.utils import metrics_utils\n",
        "from tensorflow.python.ops import init_ops\n",
        "from tensorflow.python.ops import math_ops\n",
        "from tensorflow.python.keras.utils.generic_utils import to_list\n",
        "from tensorflow.python.keras import backend as K"
      ],
      "execution_count": null,
      "outputs": []
    },
    {
      "cell_type": "code",
      "metadata": {
        "id": "62Q21vXdg_5W"
      },
      "source": [
        "class F1Score(Metric):\n",
        "    '''\n",
        "    Custom tf.keras metric that calculates the F1 Score\n",
        "    '''\n",
        "\n",
        "    def __init__(self, thresholds=None, top_k=None, class_id=None, name=None, dtype=None):\n",
        "        '''\n",
        "        Creates an instance of the  F1Score class\n",
        "        :param thresholds: A float value or a python list/tuple of float threshold values in [0, 1].\n",
        "        :param top_k: An int value specifying the top-k predictions to consider when calculating precision\n",
        "        :param class_id: Integer class ID for which we want binary metrics. This must be in the half-open interval\n",
        "                `[0, num_classes)`, where `num_classes` is the last dimension of predictions\n",
        "        :param name: string name of the metric instance\n",
        "        :param dtype: data type of the metric result\n",
        "        '''\n",
        "        super(F1Score, self).__init__(name=name, dtype=dtype)\n",
        "        self.init_thresholds = thresholds\n",
        "        self.top_k = top_k\n",
        "        self.class_id = class_id\n",
        "\n",
        "        default_threshold = 0.5 if top_k is None else metrics_utils.NEG_INF\n",
        "        self.thresholds = metrics_utils.parse_init_thresholds(\n",
        "            thresholds, default_threshold=default_threshold)\n",
        "        self.true_positives = self.add_weight('true_positives', shape=(len(self.thresholds),),\n",
        "                                              initializer=init_ops.zeros_initializer)\n",
        "        self.false_positives = self.add_weight('false_positives', shape=(len(self.thresholds),),\n",
        "                                               initializer=init_ops.zeros_initializer)\n",
        "        self.false_negatives = self.add_weight('false_negatives', shape=(len(self.thresholds),),\n",
        "                                               initializer=init_ops.zeros_initializer)\n",
        "\n",
        "    def update_state(self, y_true, y_pred, sample_weight=None):\n",
        "        '''\n",
        "        Accumulates true positive, false positive and false negative statistics.\n",
        "        :param y_true: The ground truth values, with the same dimensions as `y_pred`. Will be cast to `bool`\n",
        "        :param y_pred: The predicted values. Each element must be in the range `[0, 1]`\n",
        "        :param sample_weight: Weighting of each example. Defaults to 1. Can be a `Tensor` whose rank is either 0,\n",
        "               or the same rank as `y_true`, and must be broadcastable to `y_true`\n",
        "        :return: Update operation\n",
        "        '''\n",
        "        metrics_utils.update_confusion_matrix_variables(\n",
        "            {\n",
        "                metrics_utils.ConfusionMatrix.TRUE_POSITIVES: self.true_positives,\n",
        "                metrics_utils.ConfusionMatrix.FALSE_POSITIVES: self.false_positives,\n",
        "                metrics_utils.ConfusionMatrix.FALSE_NEGATIVES: self.false_negatives\n",
        "            },\n",
        "            y_true, y_pred, thresholds=self.thresholds, top_k=self.top_k, class_id=self.class_id,\n",
        "            sample_weight=sample_weight)\n",
        "\n",
        "\n",
        "    def result(self):\n",
        "        '''\n",
        "        Compute the value for the F1 score. Calculates precision and recall, then F1 score.\n",
        "        F1 = 2 * precision * recall / (precision + recall)\n",
        "        :return: F1 score\n",
        "        '''\n",
        "        precision = math_ops.div_no_nan(self.true_positives, self.true_positives + self.false_positives)\n",
        "        recall = math_ops.div_no_nan(self.true_positives, self.true_positives + self.false_negatives)\n",
        "        result = math_ops.div_no_nan(2 * precision * recall, precision + recall)\n",
        "        return result[0] if len(self.thresholds) == 1 else result\n",
        "\n",
        "    def reset_states(self):\n",
        "        '''\n",
        "        Resets all of the metric state variables. Called between epochs, when a metric is evaluated during training.\n",
        "        '''\n",
        "        num_thresholds = len(to_list(self.thresholds))\n",
        "        K.batch_set_value(\n",
        "            [(v, np.zeros((num_thresholds,))) for v in self.variables])\n",
        "\n",
        "    def get_config(self):\n",
        "        '''\n",
        "        Returns the serializable config of the metric.\n",
        "        :return: serializable config of the metric\n",
        "        '''\n",
        "        config = {\n",
        "            'thresholds': self.init_thresholds,\n",
        "            'top_k': self.top_k,\n",
        "            'class_id': self.class_id\n",
        "        }\n",
        "        base_config = super(F1Score, self).get_config()\n",
        "        return dict(list(base_config.items()) + list(config.items()))"
      ],
      "execution_count": null,
      "outputs": []
    },
    {
      "cell_type": "markdown",
      "metadata": {
        "id": "xzV4dp7URGe3"
      },
      "source": [
        "TRAIN.PY"
      ]
    },
    {
      "cell_type": "markdown",
      "metadata": {
        "id": "a2oJdVugH5Xe"
      },
      "source": [
        "In the below written methods we define two different models one is Deep Convolutional Neural Network resnet and the other is resnet50v2 both of them have different architecture which is printed the output when we run the model. We can just change the ['TRAIN']['MODEL_DEF'] parameter in the config file to choose one of the two models."
      ]
    },
    {
      "cell_type": "code",
      "metadata": {
        "id": "S8nyTNMWDa77"
      },
      "source": [],
      "execution_count": null,
      "outputs": []
    },
    {
      "cell_type": "code",
      "metadata": {
        "id": "c5ZuMuvxhptt",
        "colab": {
          "base_uri": "https://localhost:8080/",
          "height": 1000
        },
        "outputId": "30592f28-40d2-4f00-930c-b3f238925782"
      },
      "source": [
        "import pandas as pd\n",
        "import yaml\n",
        "import os\n",
        "import datetime\n",
        "import random\n",
        "import dill\n",
        "import numpy as np\n",
        "import matplotlib.pyplot as plt\n",
        "import tensorflow.summary as tf_summary\n",
        "from imblearn.over_sampling import RandomOverSampler\n",
        "from math import ceil\n",
        "from tensorflow.keras.metrics import BinaryAccuracy, CategoricalAccuracy, Precision, Recall, AUC\n",
        "from tensorflow.keras.models import save_model\n",
        "from tensorflow.keras.callbacks import EarlyStopping, TensorBoard, ReduceLROnPlateau\n",
        "from tensorflow.keras.preprocessing.image import ImageDataGenerator\n",
        "from tensorboard.plugins.hparams import api as hp\n",
        "#from src.models.models import *\n",
        "#from src.visualization.visualize import *\n",
        "#from src.custom.metrics import F1Score\n",
        "#from src.data.preprocess import remove_text\n",
        "\n",
        "\n",
        "def dcnn_resnet(model_config, input_shape, metrics, n_classes=2, output_bias=None, gpus=1):\n",
        "    '''\n",
        "    Defines a deep convolutional neural network model for multiclass X-ray classification.\n",
        "    :param model_config: A dictionary of parameters associated with the model architecture\n",
        "    :param input_shape: The shape of the model input\n",
        "    :param metrics: Metrics to track model's performance\n",
        "    :return: a Keras Model object with the architecture defined in this method\n",
        "    '''\n",
        "\n",
        "    # Set hyperparameters\n",
        "    nodes_dense0 = model_config['NODES_DENSE0']\n",
        "    lr = model_config['LR']\n",
        "    dropout = model_config['DROPOUT']\n",
        "    l2_lambda = model_config['L2_LAMBDA']\n",
        "    if model_config['OPTIMIZER'] == 'adam':\n",
        "        optimizer = Adam(learning_rate=lr)\n",
        "    elif model_config['OPTIMIZER'] == 'sgd':\n",
        "        optimizer = SGD(learning_rate=lr)\n",
        "    else:\n",
        "        optimizer = Adam(learning_rate=lr)  # For now, Adam is default option\n",
        "    init_filters = model_config['INIT_FILTERS']\n",
        "    filter_exp_base = model_config['FILTER_EXP_BASE']\n",
        "    conv_blocks = model_config['CONV_BLOCKS']\n",
        "    kernel_size = eval(model_config['KERNEL_SIZE'])\n",
        "    max_pool_size = eval(model_config['MAXPOOL_SIZE'])\n",
        "    strides = eval(model_config['STRIDES'])\n",
        "\n",
        "    # Set output bias\n",
        "    if output_bias is not None:\n",
        "        output_bias = Constant(output_bias)\n",
        "    print(\"MODEL CONFIG: \", model_config)\n",
        "\n",
        "    # Input layer\n",
        "    X_input = Input(input_shape)\n",
        "    X = X_input\n",
        "\n",
        "    # Add convolutional (residual) blocks\n",
        "    for i in range(conv_blocks):\n",
        "        X_res = X\n",
        "        X = Conv2D(init_filters * (filter_exp_base ** i), kernel_size, strides=strides, padding='same',\n",
        "                         kernel_initializer='he_uniform', activity_regularizer=l2(l2_lambda),\n",
        "                         name='conv' + str(i) + '_0')(X)\n",
        "        X = BatchNormalization()(X)\n",
        "        X = LeakyReLU()(X)\n",
        "        X = Conv2D(init_filters * (filter_exp_base ** i), kernel_size, strides=strides, padding='same',\n",
        "                         kernel_initializer='he_uniform', activity_regularizer=l2(l2_lambda),\n",
        "                         name='conv' + str(i) + '_1')(X)\n",
        "        X = concatenate([X, X_res], name='concat' + str(i))\n",
        "        X = BatchNormalization()(X)\n",
        "        X = LeakyReLU()(X)\n",
        "        X = MaxPool2D(max_pool_size, padding='same')(X)\n",
        "\n",
        "    # Add fully connected layers\n",
        "    X = Flatten()(X)\n",
        "    X = Dropout(dropout)(X)\n",
        "    X = Dense(nodes_dense0, kernel_initializer='he_uniform', activity_regularizer=l2(l2_lambda))(X)\n",
        "    X = LeakyReLU()(X)\n",
        "    X = Dense(n_classes, bias_initializer=output_bias)(X)\n",
        "    Y = Activation('softmax', dtype='float32', name='output')(X)\n",
        "\n",
        "    # Set model loss function, optimizer, metrics.\n",
        "    model = Model(inputs=X_input, outputs=Y)\n",
        "    if gpus >= 2:\n",
        "        model = multi_gpu_model(model, gpus=gpus)\n",
        "    model.compile(loss='categorical_crossentropy', optimizer=optimizer, metrics=metrics)\n",
        "    model.summary()\n",
        "    return model\n",
        "\n",
        "\n",
        "def resnet50v2(model_config, input_shape, metrics, n_classes=2, output_bias=None, gpus=1):\n",
        "    '''\n",
        "    Defines a model based on a pretrained ResNet50V2 for multiclass X-ray classification.\n",
        "    :param model_config: A dictionary of parameters associated with the model architecture\n",
        "    :param input_shape: The shape of the model input\n",
        "    :param metrics: Metrics to track model's performance\n",
        "    :return: a Keras Model object with the architecture defined in this method\n",
        "    '''\n",
        "\n",
        "    # Set hyperparameters\n",
        "    nodes_dense0 = model_config['NODES_DENSE0']\n",
        "    lr = model_config['LR']\n",
        "    dropout = model_config['DROPOUT']\n",
        "    l2_lambda = model_config['L2_LAMBDA']\n",
        "    if model_config['OPTIMIZER'] == 'adam':\n",
        "        optimizer = Adam(learning_rate=lr)\n",
        "    elif model_config['OPTIMIZER'] == 'sgd':\n",
        "        optimizer = SGD(learning_rate=lr)\n",
        "    else:\n",
        "        optimizer = Adam(learning_rate=lr)  # For now, Adam is default option\n",
        "\n",
        "    # Set output bias\n",
        "    if output_bias is not None:\n",
        "        output_bias = Constant(output_bias)\n",
        "    print(\"MODEL CONFIG: \", model_config)\n",
        "\n",
        "    # Start with pretrained ResNet50V2\n",
        "    pretrained_resnet = ResNet50V2(include_top=False, weights='imagenet', input_shape=input_shape)\n",
        "    X = pretrained_resnet.output\n",
        "\n",
        "    # Add custom top\n",
        "    X = GlobalAveragePooling2D()(X)\n",
        "    X = Dropout(dropout)(X)\n",
        "    X = Dense(nodes_dense0, kernel_initializer='he_uniform', activity_regularizer=l2(l2_lambda))(X)\n",
        "    X = LeakyReLU()(X)\n",
        "    X = Dense(n_classes, bias_initializer=output_bias)(X)\n",
        "    Y = Activation('softmax', dtype='float32', name='output')(X)\n",
        "\n",
        "    # Set model loss function, optimizer, metrics.\n",
        "    model = Model(inputs=pretrained_resnet.input, outputs=Y)\n",
        "    if gpus >= 3:\n",
        "        model = multi_gpu_model(model, gpus=gpus)\n",
        "    model.compile(loss='categorical_crossentropy', optimizer=optimizer, metrics=metrics)\n",
        "    model.summary()\n",
        "    return model\n",
        "\n",
        "\n",
        "def get_class_weights(histogram, class_multiplier=None):\n",
        "    '''\n",
        "    Computes weights for each class to be applied in the loss function during training.\n",
        "    :param histogram: A list depicting the number of each item in different class\n",
        "    :param class_multiplier: List of values to multiply the calculated class weights by. For further control of class weighting.\n",
        "    :return: A dictionary containing weights for each class\n",
        "    '''\n",
        "    print(\"histogram\")\n",
        "    print(histogram)\n",
        "    weights = [None] * len(histogram)\n",
        "    for i in range(len(histogram)):\n",
        "        weights[i] = (1.0 / len(histogram)) * sum(histogram) / histogram[i]\n",
        "    class_weight = {i: weights[i] for i in range(len(histogram))}\n",
        "    print(\"inside get class weights\")\n",
        "    print(class_weight)\n",
        "    print(\"class multiplier\")\n",
        "    print(class_multiplier)\n",
        "    if class_multiplier is not None:\n",
        "        print(\"class multiplier not none\")\n",
        "        class_weight = [class_weight[i] * class_multiplier[i] for i in range(len(histogram))]\n",
        "    print(\"Class weights: \", class_weight)\n",
        "    return class_weight\n",
        "\n",
        "\n",
        "def random_minority_oversample(train_set):\n",
        "    '''\n",
        "    Oversample the minority class using the specified algorithm\n",
        "    :param train_set: Training set image file names and labels\n",
        "    :return: A new training set containing oversampled examples\n",
        "    '''\n",
        "    X_train = train_set[[x for x in train_set.columns if x != 'label']].to_numpy()\n",
        "    if X_train.shape[1] == 1:\n",
        "        X_train = np.expand_dims(X_train, axis=-1)\n",
        "    Y_train = train_set['label'].to_numpy()\n",
        "    sampler = RandomOverSampler(random_state=np.random.randint(0, high=1000))\n",
        "    X_resampled, Y_resampled = sampler.fit_resample(X_train, Y_train)\n",
        "    filenames = X_resampled[:, 1]     # Filename is in second column\n",
        "    label_strs = X_resampled[:, 2]    # Class name is in second column\n",
        "    print(\"Train set shape before oversampling: \", X_train.shape, \" Train set shape after resampling: \", X_resampled.shape)\n",
        "    train_set_resampled = pd.DataFrame({'filename': filenames, 'label': Y_resampled, 'label_str': label_strs})\n",
        "    return train_set_resampled\n",
        "\n",
        "\n",
        "def train_model(cfg, data, callbacks, verbose=1):\n",
        "    '''\n",
        "    Train a and evaluate model on given data.\n",
        "    :param cfg: Project config (from config.yml)\n",
        "    :param data: dict of partitioned dataset\n",
        "    :param callbacks: list of callbacks for Keras model\n",
        "    :param verbose: Verbosity mode to pass to model.fit_generator()\n",
        "    :return: Trained model and associated performance metrics on the test set\n",
        "    '''\n",
        "    print(\"before random minority oversample\")\n",
        "    print(data['TRAIN'])\n",
        "    # If set in config file, oversample the minority class\n",
        "    if cfg['TRAIN']['IMB_STRATEGY'] == 'random_oversample':\n",
        "        data['TRAIN'] = random_minority_oversample(data['TRAIN'])\n",
        "\n",
        "    print(\"after random minority oversample\")\n",
        "    print(data['TRAIN'])\n",
        "    # Create ImageDataGenerators\n",
        "    train_img_gen = ImageDataGenerator(rotation_range=10, preprocessing_function=remove_text,\n",
        "                                       samplewise_std_normalization=True, samplewise_center=True)\n",
        "    val_img_gen = ImageDataGenerator(preprocessing_function=remove_text,\n",
        "                                       samplewise_std_normalization=True, samplewise_center=True)\n",
        "    test_img_gen = ImageDataGenerator(preprocessing_function=remove_text,\n",
        "                                       samplewise_std_normalization=True, samplewise_center=True)\n",
        "\n",
        "    print(train_img_gen)\n",
        "    # Create DataFrameIterators\n",
        "    print(\"print train val and test data\")\n",
        "    #pd.set_option(\"display.max_rows\", None, \"display.max_columns\", None)\n",
        "    print(data['TRAIN']['filename'])\n",
        "    print(data['TRAIN']['label_str'])\n",
        "    print(type(data['TRAIN']))\n",
        "\n",
        "    print(type(data))\n",
        "    print(data['VAL'])\n",
        "    print(data['TEST'])\n",
        "    img_shape = tuple(cfg['DATA']['IMG_DIM'])\n",
        "    print(\"image shape \"+str(img_shape))\n",
        "    y_col = 'label_str'\n",
        "    class_mode = 'categorical'\n",
        "    train_generator = train_img_gen.flow_from_dataframe(dataframe=data['TRAIN'], directory='/content/gdrive/My Drive/',\n",
        "        x_col=\"filename\", y_col=y_col, target_size=img_shape, batch_size=cfg['TRAIN']['BATCH_SIZE'], class_mode=class_mode)\n",
        "    val_generator = val_img_gen.flow_from_dataframe(dataframe=data['VAL'], directory='/content/gdrive/My Drive/',\n",
        "        x_col=\"filename\", y_col=y_col, target_size=img_shape, batch_size=cfg['TRAIN']['BATCH_SIZE'], class_mode=class_mode)\n",
        "    test_generator = test_img_gen.flow_from_dataframe(dataframe=data['TEST'], directory='/content/gdrive/My Drive/',\n",
        "        x_col=\"filename\", y_col=y_col, target_size=img_shape, batch_size=cfg['TRAIN']['BATCH_SIZE'], class_mode=class_mode,\n",
        "        shuffle=False)\n",
        "\n",
        "    print(\"printing\")\n",
        "    print(train_generator)\n",
        "    print(test_generator)\n",
        "    print(\"prining data\")\n",
        "    print(data['TEST'])\n",
        "    # Save model's ordering of class indices\n",
        "    print(\"prining class indices\")\n",
        "    print(train_generator.class_indices)\n",
        "    print(val_generator.class_indices)\n",
        "    print(test_generator.class_indices)\n",
        "    dill.dump(test_generator.class_indices, open(cfg['PATHS']['OUTPUT_CLASS_INDICES'], 'wb'))\n",
        "\n",
        "    # Apply class imbalance strategy. We have many more X-rays negative for COVID-19 than positive.\n",
        "    histogram = np.bincount(np.array(train_generator.labels).astype(int))  # Get class distribution\n",
        "    class_weight = None\n",
        "    if cfg['TRAIN']['IMB_STRATEGY'] == 'class_weight':\n",
        "        class_multiplier = cfg['TRAIN']['CLASS_MULTIPLIER']\n",
        "        class_multiplier = [class_multiplier[cfg['DATA']['CLASSES'].index(c)] for c in test_generator.class_indices]\n",
        "        print(\"class multiplier \")\n",
        "        print(class_multiplier)\n",
        "        #class_weight = get_class_weights(histogram, class_multiplier)\n",
        "        class_weight = get_class_weights(histogram, None)\n",
        "\n",
        "    print(\"class weight\")\n",
        "    print(class_weight)\n",
        "    # Define metrics.\n",
        "    covid_class_idx = test_generator.class_indices['COVID-19']   # Get index of COVID-19 class\n",
        "    thresholds = 1.0 / len(cfg['DATA']['CLASSES'])      # Binary classification threshold for a class\n",
        "    metrics = [CategoricalAccuracy(name='accuracy'),\n",
        "               Precision(name='precision', thresholds=thresholds, class_id=covid_class_idx),\n",
        "               Recall(name='recall', thresholds=thresholds, class_id=covid_class_idx),\n",
        "               AUC(name='auc'),\n",
        "               F1Score(name='f1score', thresholds=thresholds, class_id=covid_class_idx)]\n",
        "\n",
        "    # Define the model.\n",
        "    print('Training distribution: ', ['Class ' + list(test_generator.class_indices.keys())[i] + ': ' + str(histogram[i]) + '. '\n",
        "           for i in range(len(histogram))])\n",
        "    input_shape = cfg['DATA']['IMG_DIM'] + [3]\n",
        "    num_gpus = cfg['TRAIN']['NUM_GPUS']\n",
        "    if cfg['TRAIN']['MODEL_DEF'] == 'dcnn_resent':\n",
        "        model_def = dcnn_resnet\n",
        "    elif cfg['TRAIN']['MODEL_DEF'] == 'resnet50v2':\n",
        "        model_def = resnet50v2\n",
        "    else:\n",
        "        model_def = resnet101v2\n",
        "    if cfg['TRAIN']['CLASS_MODE'] == 'binary':\n",
        "        histogram = np.bincount(data['TRAIN']['label'].astype(int))\n",
        "        output_bias = np.log([histogram[i] / (np.sum(histogram) - histogram[i]) for i in range(histogram.shape[0])])\n",
        "        model = model_def(cfg['NN']['DCNN_BINARY'], input_shape, metrics, 2, output_bias=output_bias, gpus=num_gpus)\n",
        "    else:\n",
        "        n_classes = len(cfg['DATA']['CLASSES'])\n",
        "        histogram = np.bincount(data['TRAIN']['label'].astype(int))\n",
        "        output_bias = np.log([histogram[i] / (np.sum(histogram) - histogram[i]) for i in range(histogram.shape[0])])\n",
        "        model = model_def(cfg['NN']['DCNN_MULTICLASS'], input_shape, metrics, n_classes, output_bias=output_bias,\n",
        "                          gpus=num_gpus)\n",
        "\n",
        "    # Train the model.\n",
        "    steps_per_epoch = ceil(train_generator.n / train_generator.batch_size)\n",
        "    val_steps = ceil(val_generator.n / val_generator.batch_size)\n",
        "    '''\n",
        "    history = model.fit_generator(train_generator, steps_per_epoch=steps_per_epoch, epochs=cfg['TRAIN']['EPOCHS'],\n",
        "                                  validation_data=val_generator, validation_steps=val_steps, callbacks=callbacks,\n",
        "                                  verbose=verbose, class_weight=class_weight)\n",
        "    '''\n",
        "    history = model.fit_generator(train_generator, steps_per_epoch=steps_per_epoch, epochs=cfg['TRAIN']['EPOCHS'], verbose=verbose, class_weight=class_weight)\n",
        "    print(\"model is fitted\")\n",
        "    # Run the model on the test set and print the resulting performance metrics.\n",
        "    #test_results = model.evaluate_generator(test_generator, verbose=1)\n",
        "    print(\"test generator\")\n",
        "    print(test_generator)\n",
        "    test_results = model.evaluate(test_generator, verbose=1)\n",
        "    print(\"evaluate generator\")\n",
        "    print(test_results)\n",
        "    test_metrics = {}\n",
        "    test_summary_str = [['**Metric**', '**Value**']]\n",
        "    for metric, value in zip(model.metrics_names, test_results):\n",
        "        test_metrics[metric] = value\n",
        "        print(\"metric test summary append\")\n",
        "        print(metric, ' = ', value)\n",
        "        test_summary_str.append([metric, str(value)])\n",
        "    return model, test_metrics, test_generator\n",
        "\n",
        "\n",
        "\n",
        "def log_test_results(cfg, model, test_generator, test_metrics, log_dir):\n",
        "    '''\n",
        "    Visualize performance of a trained model on the test set. Optionally save the model.\n",
        "    :param cfg: Project config\n",
        "    :param model: A trained Keras model\n",
        "    :param test_generator: A Keras generator for the test set\n",
        "    :param test_metrics: Dict of test set performance metrics\n",
        "    :param log_dir: Path to write TensorBoard logs\n",
        "    '''\n",
        "\n",
        "    print(\"inside log_test_results\")\n",
        "    # Visualization of test results\n",
        "    test_predictions = model.predict_generator(test_generator, verbose=0)\n",
        "    test_labels = test_generator.labels\n",
        "    covid_idx = test_generator.class_indices['COVID-19']\n",
        "    plt = plot_roc(\"Test set\", test_labels, test_predictions, class_id=covid_idx)\n",
        "    roc_img = plot_to_tensor()\n",
        "    plt = plot_confusion_matrix(test_labels, test_predictions, class_id=covid_idx)\n",
        "    cm_img = plot_to_tensor()\n",
        "\n",
        "    # Log test set results and plots in TensorBoard\n",
        "    writer = tf_summary.create_file_writer(logdir=log_dir)\n",
        "\n",
        "    # Create table of test set metrics\n",
        "    test_summary_str = [['**Metric**','**Value**']]\n",
        "    thresholds = cfg['TRAIN']['THRESHOLDS']  # Load classification thresholds\n",
        "    for metric in test_metrics:\n",
        "        if metric in ['precision', 'recall'] and isinstance(metric, list):\n",
        "            metric_values = dict(zip(thresholds, test_metrics[metric]))\n",
        "        else:\n",
        "            metric_values = test_metrics[metric]\n",
        "        test_summary_str.append([metric, str(metric_values)])\n",
        "\n",
        "    # Create table of model and train config values\n",
        "    hparam_summary_str = [['**Variable**', '**Value**']]\n",
        "    for key in cfg['TRAIN']:\n",
        "        hparam_summary_str.append([key, str(cfg['TRAIN'][key])])\n",
        "    if cfg['TRAIN']['CLASS_MODE'] == 'binary':\n",
        "        for key in cfg['NN']['DCNN_BINARY']:\n",
        "            hparam_summary_str.append([key, str(cfg['NN']['DCNN_BINARY'][key])])\n",
        "    else:\n",
        "        for key in cfg['NN']['DCNN_BINARY']:\n",
        "            hparam_summary_str.append([key, str(cfg['NN']['DCNN_BINARY'][key])])\n",
        "\n",
        "    print(\"writing to tensorboard logs\")\n",
        "    # Write to TensorBoard logs\n",
        "    with writer.as_default():\n",
        "        tf_summary.text(name='Test set metrics', data=tf.convert_to_tensor(test_summary_str), step=0)\n",
        "        tf_summary.text(name='Run hyperparameters', data=tf.convert_to_tensor(hparam_summary_str), step=0)\n",
        "        tf_summary.image(name='ROC Curve (Test Set)', data=roc_img, step=0)\n",
        "        tf_summary.image(name='Confusion Matrix (Test Set)', data=cm_img, step=0)\n",
        "    return\n",
        "\n",
        "def train_experiment(cfg=None, experiment='single_train', save_weights=True, write_logs=True):\n",
        "    '''\n",
        "    Defines and trains HIFIS-v2 model. Prints and logs relevant metrics.\n",
        "    :param experiment: The type of training experiment. Choices are {'single_train'}\n",
        "    :param save_weights: A flag indicating whether to save the model weights\n",
        "    :param write_logs: A flag indicating whether to write TensorBoard logs\n",
        "    :return: A dictionary of metrics on the test set\n",
        "    '''\n",
        "\n",
        "    # Load project config data\n",
        "    if cfg is None:\n",
        "        cfg = yaml.full_load(open(os.getcwd() + \"/config.yml\", 'r'))\n",
        "\n",
        "    # Set logs directory\n",
        "    cur_date = datetime.datetime.now().strftime('%Y%m%d-%H%M%S')\n",
        "    log_dir = cfg['PATHS']['LOGS'] + \"training\\\\\" + cur_date if write_logs else None\n",
        "    if not os.path.exists(cfg['PATHS']['LOGS'] + \"training\\\\\"):\n",
        "        os.makedirs(cfg['PATHS']['LOGS'] + \"training\\\\\")\n",
        "\n",
        "    # Load dataset file paths and labels\n",
        "    data = {}\n",
        "    data['TRAIN'] = pd.read_csv(cfg['PATHS']['TRAIN_SET'])\n",
        "    data['VAL'] = pd.read_csv(cfg['PATHS']['VAL_SET'])\n",
        "    data['TEST'] = pd.read_csv(cfg['PATHS']['TEST_SET'])\n",
        "\n",
        "    # Set callbacks.\n",
        "    early_stopping = EarlyStopping(monitor='val_loss', verbose=1, patience=cfg['TRAIN']['PATIENCE'], mode='min', restore_best_weights=True)\n",
        "    callbacks = [early_stopping]\n",
        "\n",
        "    # Conduct the desired train experiment\n",
        "    if experiment == 'hparam_search':\n",
        "        log_dir = cfg['PATHS']['LOGS'] + \"hparam_search\\\\\" + cur_date\n",
        "        random_hparam_search(cfg, data, callbacks, log_dir)\n",
        "    else:\n",
        "        if experiment == 'multi_train':\n",
        "            base_log_dir = cfg['PATHS']['LOGS'] + \"training\\\\\" if write_logs else None\n",
        "            model, test_metrics, test_generator, cur_date = multi_train(cfg, data, callbacks, base_log_dir)\n",
        "        else:\n",
        "            if write_logs:\n",
        "                tensorboard = TensorBoard(log_dir=log_dir, histogram_freq=1)\n",
        "                callbacks.append(tensorboard)\n",
        "            model, test_metrics, test_generator = train_model(cfg, data, callbacks)\n",
        "            if write_logs:\n",
        "                print(\"before calling log_test_results\")\n",
        "                log_test_results(cfg, model, test_generator, test_metrics, log_dir)\n",
        "        if save_weights:\n",
        "            print(\"before saving weights\")\n",
        "            model_path = cfg['PATHS']['MODEL_WEIGHTS'] + 'model' + cur_date + '.h5'\n",
        "            save_model(model, model_path)  # Save the model's weights\n",
        "    return\n",
        "\n",
        "if __name__ == '__main__':\n",
        "    cfg = yaml.full_load(open(os.getcwd() + \"/config.yml\", 'r'))\n",
        "    print(cfg)\n",
        "    train_experiment(cfg=cfg, experiment=cfg['TRAIN']['EXPERIMENT_TYPE'], save_weights=True, write_logs=True)\n",
        "\n",
        "#'results/models/model20200423-231726.h5'"
      ],
      "execution_count": null,
      "outputs": [
        {
          "output_type": "stream",
          "text": [
            "{'PATHS': {'MILA_DATA': 'covid-chestxray-dataset/', 'FIGURE1_DATA': 'Figure1-COVID-chestxray-dataset/', 'RSNA_DATA': '', 'PROCESSED_DATA': 'data/processed/', 'TRAIN_SET': 'data/processed/train_set.csv', 'VAL_SET': 'data/processed/val_set.csv', 'TEST_SET': 'data/processed/test_set.csv', 'IMAGES': 'documents/generated_images/', 'TEST_IMGS': '/content/gdrive/My Drive/fold/', 'LOGS': 'results\\\\\\\\logs\\\\\\\\', 'MODEL_WEIGHTS': 'results/models/', 'MODEL_TO_LOAD': 'results/models/model.h5', 'LIME_EXPLAINER': './data/interpretability/lime_explainer.pkl', 'OUTPUT_CLASS_INDICES': './data/interpretability/output_class_indices.pkl', 'BATCH_PRED_IMGS': 'data/processed/test/', 'BATCH_PREDS': 'results/predictions/'}, 'DATA': {'IMG_DIM': [224, 224], 'VIEWS': ['PA', 'AP'], 'VAL_SPLIT': 0.08, 'TEST_SPLIT': 0.1, 'NUM_RSNA_IMGS': 1000, 'CLASSES': ['non-COVID-19', 'COVID-19']}, 'TRAIN': {'CLASS_MODE': 'binary', 'MODEL_DEF': 'dcnn_resent', 'CLASS_MULTIPLIER': [0.15, 1.0], 'EXPERIMENT_TYPE': 'single_train', 'BATCH_SIZE': 32, 'EPOCHS': 5, 'THRESHOLDS': 0.5, 'PATIENCE': 7, 'IMB_STRATEGY': 'class_weight', 'METRIC_PREFERENCE': ['auc', 'recall', 'precision', 'loss'], 'NUM_RUNS': 10, 'NUM_GPUS': 1}, 'NN': {'DCNN_BINARY': {'KERNEL_SIZE': '(3,3)', 'STRIDES': '(1,1)', 'INIT_FILTERS': 16, 'FILTER_EXP_BASE': 3, 'MAXPOOL_SIZE': '(2,2)', 'CONV_BLOCKS': 3, 'NODES_DENSE0': 128, 'LR': 0.0003, 'OPTIMIZER': 'adam', 'DROPOUT': 0.4, 'L2_LAMBDA': 0.0001}, 'DCNN_MULTICLASS': {'KERNEL_SIZE': '(3,3)', 'STRIDES': '(1,1)', 'INIT_FILTERS': 16, 'FILTER_EXP_BASE': 3, 'MAXPOOL_SIZE': '(2,2)', 'CONV_BLOCKS': 4, 'NODES_DENSE0': 128, 'LR': 0.0002, 'OPTIMIZER': 'adam', 'DROPOUT': 0.4, 'L2_LAMBDA': 0.0001}}, 'LIME': {'KERNEL_WIDTH': 1.75, 'FEATURE_SELECTION': 'lasso_path', 'NUM_FEATURES': 10000, 'NUM_SAMPLES': 4000, 'COVID_ONLY': False}, 'HP_SEARCH': {'METRICS': ['accuracy', 'loss', 'recall', 'precision', 'auc'], 'COMBINATIONS': 50, 'REPEATS': 3, 'RANGES': {'KERNEL_SIZE': ['(3,3)', '(5,5)'], 'MAXPOOL_SIZE': ['(2,2)', '(3,3)'], 'INIT_FILTERS': [8, 16, 32], 'FILTER_EXP_BASE': [2, 3], 'NODES_DENSE0': [128, 256], 'CONV_BLOCKS': [2, 4], 'DROPOUT': [0.2, 0.4], 'LR': [-4.0, -3.0], 'OPTIMIZER': ['adam', 'sgd'], 'L2_LAMBDA': [-5.0, -4.0], 'BATCH_SIZE': [8, 16], 'IMB_STRATEGY': ['class_weight', 'random_oversample']}}, 'PREDICTION': {'THRESHOLD': 0.5}}\n",
            "before random minority oversample\n",
            "      Unnamed: 0  ...     label_str\n",
            "0            278  ...      COVID-19\n",
            "1            268  ...  non-COVID-19\n",
            "2            104  ...  non-COVID-19\n",
            "3            131  ...      COVID-19\n",
            "4           1152  ...  non-COVID-19\n",
            "...          ...  ...           ...\n",
            "1055        1033  ...  non-COVID-19\n",
            "1056        1169  ...  non-COVID-19\n",
            "1057         333  ...      COVID-19\n",
            "1058          86  ...  non-COVID-19\n",
            "1059         791  ...  non-COVID-19\n",
            "\n",
            "[1060 rows x 4 columns]\n",
            "after random minority oversample\n",
            "      Unnamed: 0  ...     label_str\n",
            "0            278  ...      COVID-19\n",
            "1            268  ...  non-COVID-19\n",
            "2            104  ...  non-COVID-19\n",
            "3            131  ...      COVID-19\n",
            "4           1152  ...  non-COVID-19\n",
            "...          ...  ...           ...\n",
            "1055        1033  ...  non-COVID-19\n",
            "1056        1169  ...  non-COVID-19\n",
            "1057         333  ...      COVID-19\n",
            "1058          86  ...  non-COVID-19\n",
            "1059         791  ...  non-COVID-19\n",
            "\n",
            "[1060 rows x 4 columns]\n",
            "<tensorflow.python.keras.preprocessing.image.ImageDataGenerator object at 0x7f43bb4992b0>\n",
            "print train val and test data\n",
            "0       covid-chestxray-dataset/images/radiol.20202011...\n",
            "1         images/06737bed-8dc1-47d9-8c30-324282dcc84d.jpg\n",
            "2         images/0295573e-1bbe-4f14-83c2-32449fa79f10.jpg\n",
            "3       covid-chestxray-dataset/images/1-s2.0-S1684118...\n",
            "4         images/0dcc2f61-2c28-4c66-a50c-9728cdab1ed9.jpg\n",
            "                              ...                        \n",
            "1055      images/0c294ecf-23d6-4c56-b5e2-0482915cd102.jpg\n",
            "1056      images/0e7d0fc9-9a11-4325-91b2-bb13e40d1f1a.jpg\n",
            "1057          covid-chestxray-dataset/images/4-x-day8.jpg\n",
            "1058      images/02002619-3dea-4038-8d4d-458db30ed8de.jpg\n",
            "1059      images/0a66f58c-f98d-41d1-89af-4e0136888e13.jpg\n",
            "Name: filename, Length: 1060, dtype: object\n",
            "0           COVID-19\n",
            "1       non-COVID-19\n",
            "2       non-COVID-19\n",
            "3           COVID-19\n",
            "4       non-COVID-19\n",
            "            ...     \n",
            "1055    non-COVID-19\n",
            "1056    non-COVID-19\n",
            "1057        COVID-19\n",
            "1058    non-COVID-19\n",
            "1059    non-COVID-19\n",
            "Name: label_str, Length: 1060, dtype: object\n",
            "<class 'pandas.core.frame.DataFrame'>\n",
            "<class 'dict'>\n",
            "     Unnamed: 0  ...     label_str\n",
            "0           656  ...  non-COVID-19\n",
            "1           615  ...  non-COVID-19\n",
            "2           148  ...      COVID-19\n",
            "3            51  ...  non-COVID-19\n",
            "4           825  ...  non-COVID-19\n",
            "..          ...  ...           ...\n",
            "99          795  ...  non-COVID-19\n",
            "100         772  ...  non-COVID-19\n",
            "101          12  ...  non-COVID-19\n",
            "102          41  ...  non-COVID-19\n",
            "103         872  ...  non-COVID-19\n",
            "\n",
            "[104 rows x 4 columns]\n",
            "     Unnamed: 0  ...     label_str\n",
            "0           305  ...      COVID-19\n",
            "1           435  ...  non-COVID-19\n",
            "2           737  ...  non-COVID-19\n",
            "3           663  ...  non-COVID-19\n",
            "4           527  ...  non-COVID-19\n",
            "..          ...  ...           ...\n",
            "125         209  ...      COVID-19\n",
            "126         315  ...      COVID-19\n",
            "127         179  ...  non-COVID-19\n",
            "128         712  ...  non-COVID-19\n",
            "129          30  ...  non-COVID-19\n",
            "\n",
            "[130 rows x 4 columns]\n",
            "image shape (224, 224)\n"
          ],
          "name": "stdout"
        },
        {
          "output_type": "stream",
          "text": [
            "/usr/local/lib/python3.6/dist-packages/keras_preprocessing/image/dataframe_iterator.py:273: UserWarning: Found 17 invalid image filename(s) in x_col=\"filename\". These filename(s) will be ignored.\n",
            "  .format(n_invalid, x_col)\n",
            "/usr/local/lib/python3.6/dist-packages/keras_preprocessing/image/dataframe_iterator.py:273: UserWarning: Found 1 invalid image filename(s) in x_col=\"filename\". These filename(s) will be ignored.\n",
            "  .format(n_invalid, x_col)\n",
            "/usr/local/lib/python3.6/dist-packages/keras_preprocessing/image/dataframe_iterator.py:273: UserWarning: Found 2 invalid image filename(s) in x_col=\"filename\". These filename(s) will be ignored.\n",
            "  .format(n_invalid, x_col)\n"
          ],
          "name": "stderr"
        },
        {
          "output_type": "stream",
          "text": [
            "Found 1043 validated image filenames belonging to 2 classes.\n",
            "Found 103 validated image filenames belonging to 2 classes.\n",
            "Found 128 validated image filenames belonging to 2 classes.\n",
            "printing\n",
            "<keras_preprocessing.image.dataframe_iterator.DataFrameIterator object at 0x7f43bb4995c0>\n",
            "<keras_preprocessing.image.dataframe_iterator.DataFrameIterator object at 0x7f43bb4998d0>\n",
            "prining data\n",
            "     Unnamed: 0  ...     label_str\n",
            "0           305  ...      COVID-19\n",
            "1           435  ...  non-COVID-19\n",
            "2           737  ...  non-COVID-19\n",
            "3           663  ...  non-COVID-19\n",
            "4           527  ...  non-COVID-19\n",
            "..          ...  ...           ...\n",
            "125         209  ...      COVID-19\n",
            "126         315  ...      COVID-19\n",
            "127         179  ...  non-COVID-19\n",
            "128         712  ...  non-COVID-19\n",
            "129          30  ...  non-COVID-19\n",
            "\n",
            "[130 rows x 4 columns]\n",
            "prining class indices\n",
            "{'COVID-19': 0, 'non-COVID-19': 1}\n",
            "{'COVID-19': 0, 'non-COVID-19': 1}\n",
            "{'COVID-19': 0, 'non-COVID-19': 1}\n",
            "class multiplier \n",
            "[1.0, 0.15]\n",
            "histogram\n",
            "[185 858]\n",
            "inside get class weights\n",
            "{0: 2.8189189189189188, 1: 0.6078088578088578}\n",
            "class multiplier\n",
            "None\n",
            "Class weights:  {0: 2.8189189189189188, 1: 0.6078088578088578}\n",
            "class weight\n",
            "{0: 2.8189189189189188, 1: 0.6078088578088578}\n",
            "Training distribution:  ['Class COVID-19: 185. ', 'Class non-COVID-19: 858. ']\n",
            "MODEL CONFIG:  {'KERNEL_SIZE': '(3,3)', 'STRIDES': '(1,1)', 'INIT_FILTERS': 16, 'FILTER_EXP_BASE': 3, 'MAXPOOL_SIZE': '(2,2)', 'CONV_BLOCKS': 3, 'NODES_DENSE0': 128, 'LR': 0.0003, 'OPTIMIZER': 'adam', 'DROPOUT': 0.4, 'L2_LAMBDA': 0.0001}\n",
            "Model: \"model_1\"\n",
            "__________________________________________________________________________________________________\n",
            "Layer (type)                    Output Shape         Param #     Connected to                     \n",
            "==================================================================================================\n",
            "input_2 (InputLayer)            [(None, 224, 224, 3) 0                                            \n",
            "__________________________________________________________________________________________________\n",
            "conv0_0 (Conv2D)                (None, 224, 224, 16) 448         input_2[0][0]                    \n",
            "__________________________________________________________________________________________________\n",
            "batch_normalization_6 (BatchNor (None, 224, 224, 16) 64          conv0_0[0][0]                    \n",
            "__________________________________________________________________________________________________\n",
            "leaky_re_lu_7 (LeakyReLU)       (None, 224, 224, 16) 0           batch_normalization_6[0][0]      \n",
            "__________________________________________________________________________________________________\n",
            "conv0_1 (Conv2D)                (None, 224, 224, 16) 2320        leaky_re_lu_7[0][0]              \n",
            "__________________________________________________________________________________________________\n",
            "concat0 (Concatenate)           (None, 224, 224, 19) 0           conv0_1[0][0]                    \n",
            "                                                                 input_2[0][0]                    \n",
            "__________________________________________________________________________________________________\n",
            "batch_normalization_7 (BatchNor (None, 224, 224, 19) 76          concat0[0][0]                    \n",
            "__________________________________________________________________________________________________\n",
            "leaky_re_lu_8 (LeakyReLU)       (None, 224, 224, 19) 0           batch_normalization_7[0][0]      \n",
            "__________________________________________________________________________________________________\n",
            "max_pooling2d_3 (MaxPooling2D)  (None, 112, 112, 19) 0           leaky_re_lu_8[0][0]              \n",
            "__________________________________________________________________________________________________\n",
            "conv1_0 (Conv2D)                (None, 112, 112, 48) 8256        max_pooling2d_3[0][0]            \n",
            "__________________________________________________________________________________________________\n",
            "batch_normalization_8 (BatchNor (None, 112, 112, 48) 192         conv1_0[0][0]                    \n",
            "__________________________________________________________________________________________________\n",
            "leaky_re_lu_9 (LeakyReLU)       (None, 112, 112, 48) 0           batch_normalization_8[0][0]      \n",
            "__________________________________________________________________________________________________\n",
            "conv1_1 (Conv2D)                (None, 112, 112, 48) 20784       leaky_re_lu_9[0][0]              \n",
            "__________________________________________________________________________________________________\n",
            "concat1 (Concatenate)           (None, 112, 112, 67) 0           conv1_1[0][0]                    \n",
            "                                                                 max_pooling2d_3[0][0]            \n",
            "__________________________________________________________________________________________________\n",
            "batch_normalization_9 (BatchNor (None, 112, 112, 67) 268         concat1[0][0]                    \n",
            "__________________________________________________________________________________________________\n",
            "leaky_re_lu_10 (LeakyReLU)      (None, 112, 112, 67) 0           batch_normalization_9[0][0]      \n",
            "__________________________________________________________________________________________________\n",
            "max_pooling2d_4 (MaxPooling2D)  (None, 56, 56, 67)   0           leaky_re_lu_10[0][0]             \n",
            "__________________________________________________________________________________________________\n",
            "conv2_0 (Conv2D)                (None, 56, 56, 144)  86976       max_pooling2d_4[0][0]            \n",
            "__________________________________________________________________________________________________\n",
            "batch_normalization_10 (BatchNo (None, 56, 56, 144)  576         conv2_0[0][0]                    \n",
            "__________________________________________________________________________________________________\n",
            "leaky_re_lu_11 (LeakyReLU)      (None, 56, 56, 144)  0           batch_normalization_10[0][0]     \n",
            "__________________________________________________________________________________________________\n",
            "conv2_1 (Conv2D)                (None, 56, 56, 144)  186768      leaky_re_lu_11[0][0]             \n",
            "__________________________________________________________________________________________________\n",
            "concat2 (Concatenate)           (None, 56, 56, 211)  0           conv2_1[0][0]                    \n",
            "                                                                 max_pooling2d_4[0][0]            \n",
            "__________________________________________________________________________________________________\n",
            "batch_normalization_11 (BatchNo (None, 56, 56, 211)  844         concat2[0][0]                    \n",
            "__________________________________________________________________________________________________\n",
            "leaky_re_lu_12 (LeakyReLU)      (None, 56, 56, 211)  0           batch_normalization_11[0][0]     \n",
            "__________________________________________________________________________________________________\n",
            "max_pooling2d_5 (MaxPooling2D)  (None, 28, 28, 211)  0           leaky_re_lu_12[0][0]             \n",
            "__________________________________________________________________________________________________\n",
            "flatten_1 (Flatten)             (None, 165424)       0           max_pooling2d_5[0][0]            \n",
            "__________________________________________________________________________________________________\n",
            "dropout_1 (Dropout)             (None, 165424)       0           flatten_1[0][0]                  \n",
            "__________________________________________________________________________________________________\n",
            "dense_2 (Dense)                 (None, 128)          21174400    dropout_1[0][0]                  \n",
            "__________________________________________________________________________________________________\n",
            "leaky_re_lu_13 (LeakyReLU)      (None, 128)          0           dense_2[0][0]                    \n",
            "__________________________________________________________________________________________________\n",
            "dense_3 (Dense)                 (None, 2)            258         leaky_re_lu_13[0][0]             \n",
            "__________________________________________________________________________________________________\n",
            "output (Activation)             (None, 2)            0           dense_3[0][0]                    \n",
            "==================================================================================================\n",
            "Total params: 21,482,230\n",
            "Trainable params: 21,481,220\n",
            "Non-trainable params: 1,010\n",
            "__________________________________________________________________________________________________\n",
            "Epoch 1/5\n",
            "33/33 [==============================] - 50s 2s/step - loss: 351.8368 - accuracy: 0.6779 - precision: 0.2812 - recall: 0.5243 - auc: 0.6964 - f1score: 0.3660\n",
            "Epoch 2/5\n",
            "33/33 [==============================] - 50s 2s/step - loss: 235.8524 - accuracy: 0.7507 - precision: 0.3711 - recall: 0.5838 - auc: 0.7594 - f1score: 0.4538\n",
            "Epoch 3/5\n",
            "33/33 [==============================] - 50s 2s/step - loss: 192.1322 - accuracy: 0.6500 - precision: 0.3035 - recall: 0.7514 - auc: 0.6604 - f1score: 0.4323\n",
            "Epoch 4/5\n",
            "33/33 [==============================] - 50s 2s/step - loss: 163.2996 - accuracy: 0.6731 - precision: 0.3319 - recall: 0.8324 - auc: 0.6835 - f1score: 0.4746\n",
            "Epoch 5/5\n",
            "33/33 [==============================] - 50s 2s/step - loss: 145.6483 - accuracy: 0.6673 - precision: 0.3071 - recall: 0.6973 - auc: 0.6718 - f1score: 0.4264\n",
            "model is fitted\n",
            "test generator\n",
            "<keras_preprocessing.image.dataframe_iterator.DataFrameIterator object at 0x7f43bb4998d0>\n",
            "4/4 [==============================] - 7s 2s/step - loss: 102.6977 - accuracy: 0.8281 - precision: 1.0000 - recall: 0.0435 - auc: 0.8254 - f1score: 0.0833         \n",
            "evaluate generator\n",
            "[102.69769096374512, 0.828125, 1.0, 0.04347826, 0.82543945, 0.083333336]\n",
            "metric test summary append\n",
            "loss  =  102.69769096374512\n",
            "metric test summary append\n",
            "accuracy  =  0.828125\n",
            "metric test summary append\n",
            "precision  =  1.0\n",
            "metric test summary append\n",
            "recall  =  0.04347826\n",
            "metric test summary append\n",
            "auc  =  0.82543945\n",
            "metric test summary append\n",
            "f1score  =  0.083333336\n",
            "before calling log_test_results\n",
            "inside log_test_results\n",
            "indside plot _roc\n",
            "after plotting roc\n",
            "True (-)ves:  105 \n",
            "False (+)ves:  0 \n",
            "False (-)ves:  22 \n",
            "True (+)ves:  1\n",
            "writing to tensorboard logs\n",
            "before saving weights\n"
          ],
          "name": "stdout"
        },
        {
          "output_type": "display_data",
          "data": {
            "image/png": "[encoded data removed]",
            "text/plain": [
              "<Figure size 864x720 with 2 Axes>"
            ]
          },
          "metadata": {
            "tags": [],
            "needs_background": "light"
          }
        }
      ]
    },
    {
      "cell_type": "code",
      "metadata": {
        "id": "pmKehKxWh-Ro",
        "colab": {
          "base_uri": "https://localhost:8080/",
          "height": 54
        },
        "outputId": "11598b60-ec16-4c0f-c0ce-57424a624f01"
      },
      "source": [
        "#!pip3 install PyYAML"
      ],
      "execution_count": null,
      "outputs": [
        {
          "output_type": "stream",
          "text": [
            "Requirement already satisfied: PyYAML in /usr/local/lib/python3.6/dist-packages (3.13)\n"
          ],
          "name": "stdout"
        }
      ]
    },
    {
      "cell_type": "markdown",
      "metadata": {
        "id": "YvLyN5a-Q-Ul"
      },
      "source": [
        "UPLOAD config file\n",
        "create folders - data/processed\n",
        "               - data/interpretability\n",
        "              "
      ]
    },
    {
      "cell_type": "code",
      "metadata": {
        "id": "NlhMXaKhhtxz",
        "colab": {
          "base_uri": "https://localhost:8080/",
          "height": 350
        },
        "outputId": "3e13debc-9c42-4633-8851-0987e2bd8b6d"
      },
      "source": [
        "#pip install -U PyYAML"
      ],
      "execution_count": null,
      "outputs": [
        {
          "output_type": "stream",
          "text": [
            "Collecting PyYAML\n",
            "\u001b[?25l  Downloading https://files.pythonhosted.org/packages/64/c2/b80047c7ac2478f9501676c988a5411ed5572f35d1beff9cae07d321512c/PyYAML-5.3.1.tar.gz (269kB)\n",
            "\r\u001b[K     |█▏                              | 10kB 19.8MB/s eta 0:00:01\r\u001b[K     |██▍                             | 20kB 1.8MB/s eta 0:00:01\r\u001b[K     |███▋                            | 30kB 2.6MB/s eta 0:00:01\r\u001b[K     |████▉                           | 40kB 1.8MB/s eta 0:00:01\r\u001b[K     |██████                          | 51kB 2.2MB/s eta 0:00:01\r\u001b[K     |███████▎                        | 61kB 2.6MB/s eta 0:00:01\r\u001b[K     |████████▌                       | 71kB 3.0MB/s eta 0:00:01\r\u001b[K     |█████████▊                      | 81kB 2.3MB/s eta 0:00:01\r\u001b[K     |███████████                     | 92kB 2.6MB/s eta 0:00:01\r\u001b[K     |████████████▏                   | 102kB 2.9MB/s eta 0:00:01\r\u001b[K     |█████████████▍                  | 112kB 2.9MB/s eta 0:00:01\r\u001b[K     |██████████████▋                 | 122kB 2.9MB/s eta 0:00:01\r\u001b[K     |███████████████▉                | 133kB 2.9MB/s eta 0:00:01\r\u001b[K     |█████████████████               | 143kB 2.9MB/s eta 0:00:01\r\u001b[K     |██████████████████▎             | 153kB 2.9MB/s eta 0:00:01\r\u001b[K     |███████████████████▌            | 163kB 2.9MB/s eta 0:00:01\r\u001b[K     |████████████████████▊           | 174kB 2.9MB/s eta 0:00:01\r\u001b[K     |██████████████████████          | 184kB 2.9MB/s eta 0:00:01\r\u001b[K     |███████████████████████▏        | 194kB 2.9MB/s eta 0:00:01\r\u001b[K     |████████████████████████▎       | 204kB 2.9MB/s eta 0:00:01\r\u001b[K     |█████████████████████████▌      | 215kB 2.9MB/s eta 0:00:01\r\u001b[K     |██████████████████████████▊     | 225kB 2.9MB/s eta 0:00:01\r\u001b[K     |████████████████████████████    | 235kB 2.9MB/s eta 0:00:01\r\u001b[K     |█████████████████████████████▏  | 245kB 2.9MB/s eta 0:00:01\r\u001b[K     |██████████████████████████████▍ | 256kB 2.9MB/s eta 0:00:01\r\u001b[K     |███████████████████████████████▋| 266kB 2.9MB/s eta 0:00:01\r\u001b[K     |████████████████████████████████| 276kB 2.9MB/s \n",
            "\u001b[?25hBuilding wheels for collected packages: PyYAML\n",
            "  Building wheel for PyYAML (setup.py) ... \u001b[?25l\u001b[?25hdone\n",
            "  Created wheel for PyYAML: filename=PyYAML-5.3.1-cp36-cp36m-linux_x86_64.whl size=44621 sha256=4e55f7996c34859cb2731c4a703755be7eaa81320cc289458cacd800158f7a3d\n",
            "  Stored in directory: /root/.cache/pip/wheels/a7/c1/ea/cf5bd31012e735dc1dfea3131a2d5eae7978b251083d6247bd\n",
            "Successfully built PyYAML\n",
            "Installing collected packages: PyYAML\n",
            "  Found existing installation: PyYAML 3.13\n",
            "    Uninstalling PyYAML-3.13:\n",
            "      Successfully uninstalled PyYAML-3.13\n",
            "Successfully installed PyYAML-5.3.1\n"
          ],
          "name": "stdout"
        },
        {
          "output_type": "display_data",
          "data": {
            "application/vnd.colab-display-data+json": {
              "pip_warning": {
                "packages": [
                  "yaml"
                ]
              }
            }
          },
          "metadata": {
            "tags": []
          }
        }
      ]
    },
    {
      "cell_type": "markdown",
      "metadata": {
        "id": "A7Ex_0OsU4jq"
      },
      "source": [
        "Upload config.yml\n",
        "create dir - data/processed and data/interpretability\n",
        "upload data for processed from local\n",
        "create dir - results/models\n",
        "create dir - content and upload test.csv from local\n",
        "\n",
        "rename results/models/\"model name\"\n",
        "to results/models/model.h5\n"
      ]
    },
    {
      "cell_type": "markdown",
      "metadata": {
        "id": "OxnfAqDaLRdi"
      },
      "source": [
        "It is important that the model's predictions may be explained so as to ensure that the it is making responsible predictions. Model explainability promotes transparency and accountability of decision-making algorithms. Since this model is a neural network, it is difficult to decipher which rules or heuristics it is employing to make its predictions. Since so little is known about presentation of COVID-19, interpretability is all the more important. We used Local Interpretable Model-Agnostic Explanations (i.e. LIME) to explain the predictions of the neural network classifier that we trained. LIME perturbs the features in an example and fits a linear model to approximate the neural network at the local region in the feature space surrounding the example. It then uses the linear model to determine which features were most contributory to the model's prediction for that example. This helps us to understand the model and check based on which features is the model predicting that particular output. So by looking at the output generted by LIME we can analyse what features is our model using to make that prediction and make changes to the model to improve it such that the prediction made by it is explainable and meaningful"
      ]
    },
    {
      "cell_type": "code",
      "metadata": {
        "id": "pMYAztysuGDw"
      },
      "source": [
        "#!pip install lime\n",
        "import lime"
      ],
      "execution_count": null,
      "outputs": []
    },
    {
      "cell_type": "code",
      "metadata": {
        "id": "kiLX7tnO19ne"
      },
      "source": [
        "import pandas as pd\n",
        "import yaml\n",
        "import os\n",
        "import dill\n",
        "import cv2\n",
        "import numpy as np\n",
        "from tqdm import tqdm\n",
        "from datetime import datetime\n",
        "from tensorflow.keras.models import load_model\n",
        "from tensorflow.keras.preprocessing.image import ImageDataGenerator\n",
        "from lime.wrappers.scikit_image import SegmentationAlgorithm"
      ],
      "execution_count": null,
      "outputs": []
    },
    {
      "cell_type": "code",
      "metadata": {
        "id": "_p7TFSHV2DyQ"
      },
      "source": [
        "def predict_instance(x, model):\n",
        "    '''\n",
        "    Runs model prediction on 1 or more input images.\n",
        "    :param x: Image(s) to predict\n",
        "    :param model: A Keras model\n",
        "    :return: A numpy array comprising a list of class probabilities for each prediction\n",
        "    '''\n",
        "    y = model.predict(x)  # Run prediction on the perturbations\n",
        "    if y.shape[1] == 1:\n",
        "        probs = np.concatenate([1.0 - y, y], axis=1)  # Compute class probabilities from the output of the model\n",
        "    else:\n",
        "        probs = y\n",
        "    return probs\n",
        "\n",
        "\n",
        "def predict_and_explain(x, model, exp, num_features, num_samples):\n",
        "    '''\n",
        "    Use the model to predict a single example and apply LIME to generate an explanation.\n",
        "    :param x: Preprocessed image to predict\n",
        "    :param model: The trained neural network model\n",
        "    :param exp: A LimeImageExplainer object\n",
        "    :param num_features: # of features to use in explanation\n",
        "    :param num_samples: # of times to perturb the example to be explained\n",
        "    :return: The LIME explainer for the instance\n",
        "    '''\n",
        "\n",
        "    def predict(x):\n",
        "        '''\n",
        "        Helper function for LIME explainer. Runs model prediction on perturbations of the example.\n",
        "        :param x: List of perturbed examples from an example\n",
        "        :return: A numpy array constituting a list of class probabilities for each predicted perturbation\n",
        "        '''\n",
        "        probs = predict_instance(x, model)\n",
        "        return probs\n",
        "\n",
        "    # Algorithm for superpixel segmentation. Parameters set to limit size of superpixels and promote border smoothness\n",
        "    segmentation_fn = SegmentationAlgorithm('quickshift', kernel_size=2.25, max_dist=50, ratio=0.1, sigma=0.15)\n",
        "\n",
        "    # Generate explanation for the example\n",
        "    explanation = exp.explain_instance(x, predict, num_features=num_features, num_samples=num_samples, segmentation_fn=segmentation_fn)\n",
        "    probs = predict_instance(np.expand_dims(x, axis=0), model)\n",
        "    return explanation, probs\n",
        "\n",
        "\n",
        "def predict_and_explain_set(raw_img_dir=None, preds_dir=None, save_results=True, give_explanations=True):\n",
        "    '''\n",
        "    Preprocess a raw dataset. Then get model predictions and corresponding explanations.\n",
        "    :param raw_img_dir: Directory in which to look for raw images\n",
        "    :param preds_dir: Path at which to save results of this prediction\n",
        "    :param save_results: Flag specifying whether to save the prediction results to disk\n",
        "    :param give_explanations: Flag specifying whether to provide LIME explanations with predictions spreadsheet\n",
        "    :return: Dataframe of prediction results, optionally including explanations.\n",
        "    '''\n",
        "\n",
        "    # Load project config data\n",
        "    cfg = yaml.full_load(open(os.getcwd() + \"/config.yml\", 'r'))\n",
        "    cur_date = datetime.now().strftime('%Y%m%d-%H%M%S')\n",
        "\n",
        "    # Restore the model, LIME explainer, and model class indices from their respective serializations\n",
        "    model = load_model(cfg['PATHS']['MODEL_TO_LOAD'], compile=False)\n",
        "    explainer = dill.load(open(cfg['PATHS']['LIME_EXPLAINER'], 'rb'))\n",
        "    class_indices = dill.load(open(cfg['PATHS']['OUTPUT_CLASS_INDICES'], 'rb'))\n",
        "\n",
        "    # Load LIME and prediction constants from config\n",
        "    NUM_SAMPLES = cfg['LIME']['NUM_SAMPLES']\n",
        "    NUM_FEATURES = cfg['LIME']['NUM_FEATURES']\n",
        "    CLASS_NAMES = cfg['DATA']['CLASSES']\n",
        "\n",
        "    # Define column names of the DataFrame representing the prediction results\n",
        "    col_names = ['Image Filename', 'Predicted Class']\n",
        "    for c in cfg['DATA']['CLASSES']:\n",
        "        col_names.append('p(' + c + ')')\n",
        "\n",
        "    # Add columns for client explanation\n",
        "    if give_explanations:\n",
        "        col_names.append('Explanation Filename')\n",
        "\n",
        "    # Set raw image directory based on project config, if not specified\n",
        "    if raw_img_dir is None:\n",
        "        raw_img_dir = cfg['PATHS']['BATCH_PRED_IMGS']\n",
        "\n",
        "    # If no path is specified, create new directory for predictions\n",
        "    if preds_dir is None:\n",
        "        preds_dir = cfg['PATHS']['BATCH_PREDS'] + '\\\\' + cur_date + '\\\\'\n",
        "        if save_results and not os.path.exists(cfg['PATHS']['BATCH_PREDS'] + '\\\\' + cur_date):\n",
        "            os.mkdir(preds_dir)\n",
        "\n",
        "    # Create DataFrame for raw image file names\n",
        "    raw_img_df = pd.DataFrame({'filename': os.listdir(raw_img_dir)})\n",
        "    raw_img_df = raw_img_df[raw_img_df['filename'].str.contains('jpg|png|jpeg', na=False)]   # Enforce image files\n",
        "\n",
        "    # Create generator for the image files\n",
        "    img_gen = ImageDataGenerator(preprocessing_function=remove_text, samplewise_std_normalization=True,\n",
        "                                 samplewise_center=True)\n",
        "    img_iter = img_gen.flow_from_dataframe(dataframe=raw_img_df, directory=raw_img_dir, x_col=\"filename\",\n",
        "                                           target_size=cfg['DATA']['IMG_DIM'], batch_size=1, class_mode=None,\n",
        "                                           shuffle=False)\n",
        "\n",
        "    # Predict (and optionally explain) all images in the specified directory\n",
        "    rows = []\n",
        "    print('Predicting and explaining examples.')\n",
        "\n",
        "    for filename in raw_img_df['filename'].tolist():\n",
        "\n",
        "        # Get preprocessed image and make a prediction.\n",
        "        try:\n",
        "            x = img_iter.next()\n",
        "        except StopIteration:\n",
        "            break\n",
        "        y = np.squeeze(predict_instance(x, model))\n",
        "\n",
        "        # Rearrange prediction probability vector to reflect original ordering of classes in project config\n",
        "        p = [y[CLASS_NAMES.index(c)] for c in class_indices]\n",
        "        predicted_class = CLASS_NAMES[np.argmax(p)]\n",
        "        row = [filename, predicted_class]\n",
        "        row.extend(list(p))\n",
        "\n",
        "        # Explain this prediction\n",
        "        if give_explanations:\n",
        "            explanation, _ = predict_and_explain(np.squeeze(x, axis=0), model, explainer, NUM_FEATURES, NUM_SAMPLES)\n",
        "            if cfg['LIME']['COVID_ONLY'] == True:\n",
        "                label_to_see = class_indices['COVID-19']\n",
        "            else:\n",
        "                label_to_see = 'top'\n",
        "\n",
        "            # Load and resize the corresponding original image (no preprocessing)\n",
        "            orig_img = cv2.imread(raw_img_dir + filename)\n",
        "            orig_img = cv2.resize(orig_img, tuple(cfg['DATA']['IMG_DIM']), interpolation=cv2.INTER_NEAREST)\n",
        "\n",
        "            # Generate visual for explanation\n",
        "            exp_filename = visualize_explanation(orig_img, explanation, filename, None, p, CLASS_NAMES,\n",
        "                                                 label_to_see=label_to_see, file_path=preds_dir)\n",
        "            row.append(exp_filename.split('\\\\')[-1])\n",
        "        rows.append(row)\n",
        "\n",
        "    # Convert results to a Pandas DataFrame and save\n",
        "    results_df = pd.DataFrame(rows, columns=col_names)\n",
        "    if save_results:\n",
        "        results_path = preds_dir + 'predictions.csv'\n",
        "        results_df.to_csv(results_path, columns=col_names, index_label=False, index=False)\n",
        "    return results_df\n",
        "\n",
        "\n",
        "#if __name__ == '__main__':\n",
        "#    results = predict_and_explain_set(preds_dir=None, save_results=True, give_explanations=True)"
      ],
      "execution_count": null,
      "outputs": []
    },
    {
      "cell_type": "markdown",
      "metadata": {
        "id": "yMcfsmCQMg-8"
      },
      "source": [
        "We use the trained model to pass to it images from the test dataset which will then be used by LIME to make predictions. The index 'i' in the below code is responsible to select the image on which we are we are trying to expain the model we can change the value assigned to 'i' to check the explanation for different images present in the test dataset."
      ]
    },
    {
      "cell_type": "code",
      "metadata": {
        "id": "aLo4vR8why4Q",
        "colab": {
          "base_uri": "https://localhost:8080/",
          "height": 758,
          "referenced_widgets": [
            "ea1868a2893646e4bf5ef49159e98949",
            "d535f55adedc4bdb9802a0db9b6aa4fa",
            "9c01b4d6c77842e8aa71deed63d1fa4c",
            "880e933257044717a8e3e6d6941ff400",
            "621eb749817c47fa9d522f24ea832266",
            "3723a664bd464f1f97b29d15e843a473",
            "696bec0508b945918d59f4014909796f",
            "02b0833d2a9b4c8d9783c02c535605a2"
          ]
        },
        "outputId": "cbd49057-5b0e-4436-9be1-b68e1a53a7e7"
      },
      "source": [
        "from lime.lime_image import *\n",
        "import pandas as pd\n",
        "import yaml\n",
        "import os\n",
        "import datetime\n",
        "import dill\n",
        "import cv2\n",
        "import numpy as np\n",
        "from tensorflow.keras.models import load_model\n",
        "from tensorflow.keras.preprocessing.image import ImageDataGenerator\n",
        "#from src.visualization.visualize import visualize_explanation\n",
        "#from src.predict import predict_instance, predict_and_explain\n",
        "#from src.data.preprocess import remove_text\n",
        "\n",
        "\n",
        "def setup_lime():\n",
        "    '''\n",
        "    Load relevant information and create a LIME Explainer\n",
        "    :return: dict containing important information and objects for explanation experiments\n",
        "    '''\n",
        "\n",
        "    # Load relevant constants from project config file\n",
        "    cfg = yaml.full_load(open(os.getcwd() + \"/config.yml\", 'r'))\n",
        "    lime_dict = {}\n",
        "    lime_dict['NUM_SAMPLES'] = cfg['LIME']['NUM_SAMPLES']\n",
        "    lime_dict['NUM_FEATURES'] = cfg['LIME']['NUM_FEATURES']\n",
        "    lime_dict['IMG_PATH'] = cfg['PATHS']['IMAGES']\n",
        "    lime_dict['TEST_IMG_PATH'] = cfg['PATHS']['TEST_IMGS']\n",
        "    lime_dict['IMG_DIM'] = cfg['DATA']['IMG_DIM']\n",
        "    lime_dict['PRED_THRESHOLD'] = cfg['PREDICTION']['THRESHOLD']\n",
        "    lime_dict['CLASSES'] = cfg['DATA']['CLASSES']\n",
        "    lime_dict['CLASS_MODE'] = cfg['TRAIN']['CLASS_MODE']\n",
        "    lime_dict['COVID_ONLY'] = cfg['LIME']['COVID_ONLY']\n",
        "    KERNEL_WIDTH = cfg['LIME']['KERNEL_WIDTH']\n",
        "    FEATURE_SELECTION = cfg['LIME']['FEATURE_SELECTION']\n",
        "\n",
        "    # Load train and test sets\n",
        "    lime_dict['TRAIN_SET'] = pd.read_csv(cfg['PATHS']['TRAIN_SET'])\n",
        "    #lime_dict['TEST_SET'] = pd.read_csv(cfg['PATHS']['TEST_SET'])\n",
        "    lime_dict['TEST_SET'] = pd.read_csv(\"content/test.csv\")\n",
        "\n",
        "    # Create ImageDataGenerator for test set\n",
        "    test_img_gen = ImageDataGenerator(preprocessing_function=remove_text,\n",
        "                                       samplewise_std_normalization=True, samplewise_center=True)\n",
        "    test_generator = test_img_gen.flow_from_dataframe(dataframe=lime_dict['TEST_SET'], directory=cfg['PATHS']['TEST_IMGS'],\n",
        "        x_col=\"filename\", y_col='label_str', target_size=tuple(cfg['DATA']['IMG_DIM']), batch_size=1,\n",
        "        class_mode='categorical', shuffle=False)\n",
        "    print(\"test generator\")\n",
        "    print(test_generator)\n",
        "    lime_dict['TEST_GENERATOR'] = test_generator\n",
        "\n",
        "    # Define the LIME explainer\n",
        "    lime_dict['EXPLAINER'] = LimeImageExplainer(kernel_width=KERNEL_WIDTH, feature_selection=FEATURE_SELECTION,\n",
        "                                                verbose=True)\n",
        "    dill.dump(lime_dict['EXPLAINER'], open(cfg['PATHS']['LIME_EXPLAINER'], 'wb'))    # Serialize the explainer\n",
        "\n",
        "    # Load trained model's weights\n",
        "    lime_dict['MODEL'] = load_model(cfg['PATHS']['MODEL_TO_LOAD'], compile=False)\n",
        "\n",
        "    print(lime_dict['MODEL'])\n",
        "    test_predictions = lime_dict['MODEL'].predict_generator(test_generator, verbose=0)\n",
        "    return lime_dict\n",
        "\n",
        "\n",
        "def explain_xray(lime_dict, idx, save_exp=True):\n",
        "    '''\n",
        "    Make a prediction and provide a LIME explanation\n",
        "    :param lime_dict: dict containing important information and objects for explanation experiments\n",
        "    :param idx: index of image in test set to explain\n",
        "    :param save_exp: Boolean indicating whether to save the explanation visualization\n",
        "    '''\n",
        "\n",
        "    # Get i'th preprocessed image in test set\n",
        "    lime_dict['TEST_GENERATOR'].reset()\n",
        "    for i in range(idx + 1):\n",
        "        x, y = lime_dict['TEST_GENERATOR'].next()\n",
        "    x = np.squeeze(x, axis=0)\n",
        "\n",
        "    # Get the corresponding original image (no preprocessing)\n",
        "    orig_img = cv2.imread(lime_dict['TEST_IMG_PATH'] + lime_dict['TEST_SET']['filename'][idx])\n",
        "    new_dim = tuple(lime_dict['IMG_DIM'])\n",
        "    orig_img = cv2.resize(orig_img, new_dim, interpolation=cv2.INTER_NEAREST)     # Resize image\n",
        "\n",
        "    # Make a prediction for this image and retrieve a LIME explanation for the prediction\n",
        "    start_time = datetime.datetime.now()\n",
        "    explanation, probs = predict_and_explain(x, lime_dict['MODEL'], lime_dict['EXPLAINER'],\n",
        "                                      lime_dict['NUM_FEATURES'], lime_dict['NUM_SAMPLES'])\n",
        "    print(\"Explanation time = \" + str((datetime.datetime.now() - start_time).total_seconds()) + \" seconds\")\n",
        "\n",
        "\n",
        "    # Get image filename and label\n",
        "    img_filename = lime_dict['TEST_SET']['filename'][idx]\n",
        "    label = lime_dict['TEST_SET']['label'][idx]\n",
        "\n",
        "    # Rearrange prediction probability vector to reflect original ordering of classes in project config\n",
        "    probs = [probs[0][lime_dict['CLASSES'].index(c)] for c in lime_dict['TEST_GENERATOR'].class_indices]\n",
        "\n",
        "    # Visualize the LIME explanation and optionally save it to disk\n",
        "    if save_exp:\n",
        "        file_path = lime_dict['IMG_PATH']\n",
        "    else:\n",
        "        file_path = None\n",
        "    if lime_dict['COVID_ONLY'] == True:\n",
        "        label_to_see = lime_dict['TEST_GENERATOR'].class_indices['COVID-19']\n",
        "    else:\n",
        "        label_to_see = 'top'\n",
        "    _ = visualize_explanation(orig_img, explanation, img_filename, label, probs, lime_dict['CLASSES'], label_to_see=label_to_see, dir_path=file_path)\n",
        "    return\n",
        "\n",
        "\n",
        "if __name__ == '__main__':\n",
        "    lime_dict = setup_lime()\n",
        "    i = 15                                                      # Select i'th image in test set\n",
        "    explain_xray(lime_dict, i, save_exp=True)                   # Generate explanation for image"
      ],
      "execution_count": null,
      "outputs": [
        {
          "output_type": "stream",
          "text": [
            "Found 130 validated image filenames belonging to 2 classes.\n",
            "test generator\n",
            "<keras_preprocessing.image.dataframe_iterator.DataFrameIterator object at 0x7f43bbcd1c50>\n",
            "<tensorflow.python.keras.engine.training.Model object at 0x7f43bb736e48>\n"
          ],
          "name": "stdout"
        },
        {
          "output_type": "display_data",
          "data": {
            "application/vnd.jupyter.widget-view+json": {
              "model_id": "ea1868a2893646e4bf5ef49159e98949",
              "version_minor": 0,
              "version_major": 2
            },
            "text/plain": [
              "HBox(children=(IntProgress(value=0, max=4000), HTML(value='')))"
            ]
          },
          "metadata": {
            "tags": []
          }
        },
        {
          "output_type": "stream",
          "text": [
            "\n",
            "Intercept 2.933736909085865e-16\n",
            "Prediction_local [1.8687515e-15]\n",
            "Right: 5.8602426e-25\n",
            "Intercept 1.0\n",
            "Prediction_local [1.]\n",
            "Right: 1.0\n",
            "Explanation time = 27.487493 seconds\n"
          ],
          "name": "stdout"
        },
        {
          "output_type": "display_data",
          "data": {
            "image/png": "[encoded data removed]",
            "text/plain": [
              "<Figure size 864x720 with 2 Axes>"
            ]
          },
          "metadata": {
            "tags": [],
            "needs_background": "light"
          }
        }
      ]
    },
    {
      "cell_type": "markdown",
      "metadata": {
        "id": "mcgMS5wtNO7x"
      },
      "source": [
        "Using SHAP to find model explanations. SHAP is another"
      ]
    },
    {
      "cell_type": "code",
      "metadata": {
        "id": "r08wNEhPnzwj",
        "colab": {
          "base_uri": "https://localhost:8080/",
          "height": 367
        },
        "outputId": "aa6fbc2d-0f91-444f-9f95-de4320b4f7b1"
      },
      "source": [
        "!pip install shap"
      ],
      "execution_count": null,
      "outputs": [
        {
          "output_type": "stream",
          "text": [
            "Collecting shap\n",
            "\u001b[?25l  Downloading https://files.pythonhosted.org/packages/a8/77/b504e43e21a2ba543a1ac4696718beb500cfa708af2fb57cb54ce299045c/shap-0.35.0.tar.gz (273kB)\n",
            "\r\u001b[K     |█▏                              | 10kB 23.9MB/s eta 0:00:01\r\u001b[K     |██▍                             | 20kB 30.9MB/s eta 0:00:01\r\u001b[K     |███▋                            | 30kB 36.8MB/s eta 0:00:01\r\u001b[K     |████▉                           | 40kB 39.8MB/s eta 0:00:01\r\u001b[K     |██████                          | 51kB 38.9MB/s eta 0:00:01\r\u001b[K     |███████▏                        | 61kB 40.4MB/s eta 0:00:01\r\u001b[K     |████████▍                       | 71kB 34.5MB/s eta 0:00:01\r\u001b[K     |█████████▋                      | 81kB 35.7MB/s eta 0:00:01\r\u001b[K     |██████████▉                     | 92kB 37.3MB/s eta 0:00:01\r\u001b[K     |████████████                    | 102kB 37.1MB/s eta 0:00:01\r\u001b[K     |█████████████▏                  | 112kB 37.1MB/s eta 0:00:01\r\u001b[K     |██████████████▍                 | 122kB 37.1MB/s eta 0:00:01\r\u001b[K     |███████████████▋                | 133kB 37.1MB/s eta 0:00:01\r\u001b[K     |████████████████▉               | 143kB 37.1MB/s eta 0:00:01\r\u001b[K     |██████████████████              | 153kB 37.1MB/s eta 0:00:01\r\u001b[K     |███████████████████▏            | 163kB 37.1MB/s eta 0:00:01\r\u001b[K     |████████████████████▍           | 174kB 37.1MB/s eta 0:00:01\r\u001b[K     |█████████████████████▋          | 184kB 37.1MB/s eta 0:00:01\r\u001b[K     |██████████████████████▉         | 194kB 37.1MB/s eta 0:00:01\r\u001b[K     |████████████████████████        | 204kB 37.1MB/s eta 0:00:01\r\u001b[K     |█████████████████████████▏      | 215kB 37.1MB/s eta 0:00:01\r\u001b[K     |██████████████████████████▍     | 225kB 37.1MB/s eta 0:00:01\r\u001b[K     |███████████████████████████▋    | 235kB 37.1MB/s eta 0:00:01\r\u001b[K     |████████████████████████████▉   | 245kB 37.1MB/s eta 0:00:01\r\u001b[K     |██████████████████████████████  | 256kB 37.1MB/s eta 0:00:01\r\u001b[K     |███████████████████████████████▏| 266kB 37.1MB/s eta 0:00:01\r\u001b[K     |████████████████████████████████| 276kB 37.1MB/s \n",
            "\u001b[?25hRequirement already satisfied: numpy in /usr/local/lib/python3.6/dist-packages (from shap) (1.18.3)\n",
            "Requirement already satisfied: scipy in /usr/local/lib/python3.6/dist-packages (from shap) (1.4.1)\n",
            "Requirement already satisfied: scikit-learn in /usr/local/lib/python3.6/dist-packages (from shap) (0.22.2.post1)\n",
            "Requirement already satisfied: pandas in /usr/local/lib/python3.6/dist-packages (from shap) (1.0.3)\n",
            "Requirement already satisfied: tqdm>4.25.0 in /usr/local/lib/python3.6/dist-packages (from shap) (4.38.0)\n",
            "Requirement already satisfied: joblib>=0.11 in /usr/local/lib/python3.6/dist-packages (from scikit-learn->shap) (0.14.1)\n",
            "Requirement already satisfied: python-dateutil>=2.6.1 in /usr/local/lib/python3.6/dist-packages (from pandas->shap) (2.8.1)\n",
            "Requirement already satisfied: pytz>=2017.2 in /usr/local/lib/python3.6/dist-packages (from pandas->shap) (2018.9)\n",
            "Requirement already satisfied: six>=1.5 in /usr/local/lib/python3.6/dist-packages (from python-dateutil>=2.6.1->pandas->shap) (1.12.0)\n",
            "Building wheels for collected packages: shap\n",
            "  Building wheel for shap (setup.py) ... \u001b[?25l\u001b[?25hdone\n",
            "  Created wheel for shap: filename=shap-0.35.0-cp36-cp36m-linux_x86_64.whl size=394123 sha256=423f96558d5f0c7858a9717a74a09e96ea220dfccd25634937ffc7b83e65df42\n",
            "  Stored in directory: /root/.cache/pip/wheels/e7/f7/0f/b57055080cf8894906b3bd3616d2fc2bfd0b12d5161bcb24ac\n",
            "Successfully built shap\n",
            "Installing collected packages: shap\n",
            "Successfully installed shap-0.35.0\n"
          ],
          "name": "stdout"
        }
      ]
    },
    {
      "cell_type": "code",
      "metadata": {
        "id": "n4FCKLGEBj6D",
        "colab": {
          "base_uri": "https://localhost:8080/",
          "height": 34
        },
        "outputId": "70582a0c-0d54-4fc6-8b67-b6138f710d38"
      },
      "source": [
        "from keras.applications.vgg16 import VGG16\n",
        "from keras.applications.vgg16 import preprocess_input\n",
        "import keras.backend as K\n",
        "import numpy as np\n",
        "import json\n",
        "import shap\n",
        "from tensorflow.keras.models import load_model"
      ],
      "execution_count": null,
      "outputs": [
        {
          "output_type": "stream",
          "text": [
            "Using TensorFlow backend.\n"
          ],
          "name": "stderr"
        }
      ]
    },
    {
      "cell_type": "code",
      "metadata": {
        "id": "tLWyOOZfJp27"
      },
      "source": [
        "import os\n",
        "import pandas as pd"
      ],
      "execution_count": null,
      "outputs": []
    },
    {
      "cell_type": "code",
      "metadata": {
        "id": "K8mlUclGBw-p"
      },
      "source": [
        "cfg = yaml.full_load(open(os.getcwd() + \"/config.yml\", 'r'))\n",
        "model = load_model(cfg['PATHS']['MODEL_TO_LOAD'], compile=False)"
      ],
      "execution_count": null,
      "outputs": []
    },
    {
      "cell_type": "code",
      "metadata": {
        "id": "p5aszNoWDLPN",
        "colab": {
          "base_uri": "https://localhost:8080/",
          "height": 54
        },
        "outputId": "c380d7ee-e961-465e-864f-96544a89c800"
      },
      "source": [
        "\n",
        "model.layers[7].input"
      ],
      "execution_count": null,
      "outputs": [
        {
          "output_type": "execute_result",
          "data": {
            "text/plain": [
              "<tf.Tensor 'batch_normalization_7_6/Identity:0' shape=(None, 224, 224, 19) dtype=float32>"
            ]
          },
          "metadata": {
            "tags": []
          },
          "execution_count": 44
        }
      ]
    },
    {
      "cell_type": "code",
      "metadata": {
        "id": "biwJ72qfGXHZ",
        "colab": {
          "base_uri": "https://localhost:8080/",
          "height": 89
        },
        "outputId": "1e7dc26d-180f-41b5-8a6c-77a1fe928849"
      },
      "source": [
        "    lime_dict1 = {}\n",
        "    lime_dict1['TEST_SET'] = pd.read_csv(\"content/test.csv\")\n",
        "\n",
        "    # Create ImageDataGenerator for test set\n",
        "    test_img_gen1 = ImageDataGenerator(preprocessing_function=remove_text,\n",
        "                                       samplewise_std_normalization=True, samplewise_center=True)\n",
        "    test_generator = test_img_gen1.flow_from_dataframe(dataframe=lime_dict1['TEST_SET'], directory=cfg['PATHS']['TEST_IMGS'],\n",
        "        x_col=\"filename\", y_col='label_str', target_size=tuple(cfg['DATA']['IMG_DIM']), batch_size=1,\n",
        "        class_mode='categorical', shuffle=False)\n",
        "    print(\"test generator\")\n",
        "    print(test_generator)\n",
        "    lime_dict1['TEST_GENERATOR'] = test_generator\n"
      ],
      "execution_count": null,
      "outputs": [
        {
          "output_type": "stream",
          "text": [
            "Found 130 validated image filenames belonging to 2 classes.\n",
            "test generator\n",
            "<keras_preprocessing.image.dataframe_iterator.DataFrameIterator object at 0x7f43bb4b5128>\n"
          ],
          "name": "stdout"
        }
      ]
    },
    {
      "cell_type": "code",
      "metadata": {
        "id": "rRY9CiveHt4y"
      },
      "source": [],
      "execution_count": null,
      "outputs": []
    }
  ]
}